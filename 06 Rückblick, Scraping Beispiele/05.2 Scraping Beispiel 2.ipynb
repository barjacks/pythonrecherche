{
 "cells": [
  {
   "cell_type": "code",
   "execution_count": 1,
   "metadata": {
    "collapsed": true
   },
   "outputs": [],
   "source": [
    "from bs4 import BeautifulSoup\n",
    "import requests"
   ]
  },
  {
   "cell_type": "code",
   "execution_count": null,
   "metadata": {
    "collapsed": true
   },
   "outputs": [],
   "source": []
  },
  {
   "cell_type": "code",
   "execution_count": 2,
   "metadata": {
    "collapsed": true
   },
   "outputs": [],
   "source": [
    "url = \"https://dnszensur.ch/censorship_phishing.php\"\n",
    "response = requests.get(url)\n",
    "dnszensur = BeautifulSoup(response.text, 'html.parser')"
   ]
  },
  {
   "cell_type": "code",
   "execution_count": 3,
   "metadata": {},
   "outputs": [
    {
     "data": {
      "text/plain": [
       "<!DOCTYPE html>\n",
       "\n",
       "<html lang=\"de\">\n",
       "<head>\n",
       "<meta charset=\"utf-8\"/>\n",
       "<meta content=\"IE=edge\" http-equiv=\"X-UA-Compatible\"/>\n",
       "<meta content=\"width=device-width, initial-scale=1\" name=\"viewport\"/>\n",
       "<title>DNSzensur.ch</title>\n",
       "<meta content=\"Markus Ritzmann\" name=\"author\"/>\n",
       "<meta content=\"Schweizer Internet Anbieter wie Swisscom und UPC sperren gewisse Webseiten mittels DNS-Server. DNSzensur.ch überprüft regelmässig Tausende von Domains und findet gesperrte Webseiten.\" name=\"description\"/>\n",
       "<meta content=\"summary\" name=\"twitter:card\"/>\n",
       "<meta content=\"@DNSzensur\" name=\"twitter:site\"/>\n",
       "<meta content=\"DNS Zensur in der Schweiz\" name=\"twitter:title\"/>\n",
       "<meta content=\"Auch Schweizer Internet Provider zensieren das Web.\" name=\"twitter:description\"/>\n",
       "<meta content=\"https://dnszensur.ch/src/img/sm_header.png\" name=\"twitter:image\"/>\n",
       "<meta content=\"https://dnszensur.ch/censorship_phishing.php\" property=\"og:url\"/>\n",
       "<meta content=\"article\" property=\"og:type\"/>\n",
       "<meta content=\"DNS Zensur in der Schweiz\" property=\"og:title\"/>\n",
       "<meta content=\"Auch Schweizer Internet Provider zensieren das Web.\" property=\"og:description\"/>\n",
       "<meta content=\"https://dnszensur.ch/src/img/sm_header.png\" property=\"og:image:url\"/>\n",
       "<meta content=\"image/png\" property=\"og:image:type\"/>\n",
       "<link async=\"\" href=\"src/css/bootstrap.min.css\" rel=\"stylesheet\"/>\n",
       "<link async=\"\" href=\"src/css/custom.css\" rel=\"stylesheet\"/>\n",
       "<link async=\"\" href=\"src/css/bootstrap-table.min.css\" rel=\"stylesheet\"/>\n",
       "<link async=\"\" href=\"src/css/font-awesome.min.css\" rel=\"stylesheet\"/>\n",
       "<link href=\"src/img/logo_quadrat.png\" rel=\"icon\"/>\n",
       "<link href=\"src/img/logo_quadrat.png\" rel=\"apple-touch-icon\"/>\n",
       "</head>\n",
       "<body>\n",
       "<nav class=\"navbar navbar-default navbar-fixed-top\">\n",
       "<div class=\"container\">\n",
       "<div class=\"navbar-header\">\n",
       "<button aria-controls=\"navbar\" aria-expanded=\"false\" class=\"navbar-toggle collapsed\" data-target=\"#navbar\" data-toggle=\"collapse\" type=\"button\">\n",
       "<span class=\"sr-only\">Toggle navigation</span>\n",
       "<span class=\"icon-bar\"></span>\n",
       "<span class=\"icon-bar\"></span>\n",
       "<span class=\"icon-bar\"></span>\n",
       "</button>\n",
       "<a class=\"navbar-brand\" href=\"/\">DNSzensur.ch</a>\n",
       "</div>\n",
       "<div class=\"collapse navbar-collapse\" id=\"navbar\">\n",
       "<ul class=\"nav navbar-nav\">\n",
       "<li class=\"\"><a href=\"/\">Home</a></li>\n",
       "<li class=\"dropdown active\">\n",
       "<a aria-expanded=\"false\" aria-haspopup=\"true\" class=\"dropdown-toggle\" data-toggle=\"dropdown\" href=\"#\" role=\"button\">Datenbank <span class=\"caret\"></span></a>\n",
       "<ul class=\"dropdown-menu\">\n",
       "<li><a href=\"censorship_phishing.php\">Phishing</a></li>\n",
       "<li><a href=\"censorship_legal.php\">Rechtliche Gründe</a></li>\n",
       "<li><a href=\"censorship_unknown.php\">Unbekannte Gründe</a></li>\n",
       "<li><a href=\"censorship_cp.php\">Kinderpornographie</a></li>\n",
       "</ul>\n",
       "</li>\n",
       "<li class=\"\"><a href=\"stat.php\">Statistiken</a></li>\n",
       "<li class=\"\"><a href=\"faq.php\">FAQ</a></li>\n",
       "</ul>\n",
       "<ul class=\"nav navbar-nav navbar-right hidden-xs\">\n",
       "<li><a href=\"https://www.facebook.com/DNSzensur\" target=\"_blank\" title=\"Facebook\"><i aria-hidden=\"true\" class=\"fa fa-lg fa-facebook\"></i></a></li>\n",
       "<li><a href=\"https://twitter.com/DNSzensur\" target=\"_blank\" title=\"Twitter\"><i aria-hidden=\"true\" class=\"fa fa-lg fa-twitter\"></i></a></li>\n",
       "</ul>\n",
       "</div>\n",
       "</div>\n",
       "</nav>\n",
       "<div class=\"container\">\n",
       "<div class=\"page-header\">\n",
       "<div class=\"alert alert-warning\" role=\"alert\">Jetzt das Referendum gegen Netzsperren durch das Geldspielgesetz <a class=\"alert-link\" href=\"https://www.digitale-gesellschaft.ch/referendum/\" target=\"_blank\">unterschreiben</a>, um weitere Netzsperren zu verhindern!</div>\n",
       "<h1>Gesperrte Webseiten: Phishing</h1>\n",
       "</div>\n",
       "<div class=\"panel panel-default\" id=\"phishing\">\n",
       "<div class=\"panel-heading\">Datenbank</div>\n",
       "<div class=\"panel-body\">\n",
       "<blockquote><p>Unter dem Begriff Phishing versteht man Versuche, über gefälschte Webseiten, E-Mails oder Kurznachrichten an persönliche Daten eines Internet-Benutzers zu gelangen und damit Identitätsdiebstahl zu begehen.</p><footer><a href=\"https://de.wikipedia.org/wiki/Phishing\">Wikipedia</a> <cite title=\"Source Title\"><a href=\"https://de.wikipedia.org/wiki/Wikipedia:Lizenzbestimmungen_Creative_Commons_Attribution-ShareAlike_3.0_Unported\">CC-by-sa-3.0</a></cite></footer></blockquote>\n",
       "</div>\n",
       "<table data-search=\"true\" data-show-columns=\"true\" data-show-toggle=\"false\" data-sort-name=\"domain\" data-toggle=\"table\" data-url=\"https://api.dnszensur.ch/v1/list/phishing.json\" id=\"table\">\n",
       "<thead>\n",
       "<tr>\n",
       "<th data-field=\"domain\" data-sortable=\"true\">Webseite</th>\n",
       "<th data-field=\"zensur_status_swisscom\" data-formatter=\"zensurtypFormatter\" data-sortable=\"true\">Swisscom</th>\n",
       "<th data-field=\"zensur_status_upc\" data-formatter=\"zensurtypFormatter\" data-sortable=\"true\">UPC</th>\n",
       "<th data-field=\"last_update_swisscom\" data-sortable=\"true\" data-visible=\"false\">zuletzt geprüft: Swisscom</th>\n",
       "<th data-field=\"last_update_upc\" data-sortable=\"true\" data-visible=\"false\">zuletzt geprüft: UPC</th>\n",
       "</tr>\n",
       "</thead>\n",
       "</table>\n",
       "</div>\n",
       "</div>\n",
       "<footer class=\"footer hidden-print\">\n",
       "<div class=\"container\">\n",
       "<p class=\"text-muted hidden-xs pull-left\"><a href=\"https://github.com/dnszensur\" target=\"_blank\"><i aria-hidden=\"true\" class=\"fa fa-lg fa-github\"></i> GitHub</a> | <a href=\"thanks.php\"><i aria-hidden=\"true\" class=\"fa fa-users\"></i> hall of fame</a> | <a href=\"impressum.php\"><i aria-hidden=\"true\" class=\"fa fa-envelope\"></i> impressum</a></p>\n",
       "<p class=\"text-muted hidden-xs pull-right\">Die <a href=\"https://api.dnszensur.ch/v1/list/\" target=\"_blank\">Datenbank</a> steht unter einer <a href=\"https://creativecommons.org/licenses/by/4.0/\" target=\"_blank\">CC BY 4.0 Lizenz</a></p>\n",
       "<p class=\"text-muted visible-xs-block\"><a href=\"thanks.php\"><i aria-hidden=\"true\" class=\"fa fa-users\"></i> hall of fame</a> | <a href=\"impressum.php\"><i aria-hidden=\"true\" class=\"fa fa-envelope\"></i> impressum</a> | <a href=\"https://github.com/dnszensur\" target=\"_blank\"><i aria-hidden=\"true\" class=\"fa fa-lg fa-github\"></i></a> | <a href=\"https://www.facebook.com/DNSzensur\" target=\"_blank\" title=\"Facebook\"><i aria-hidden=\"true\" class=\"fa fa-lg fa-facebook\"></i></a> | <a href=\"https://twitter.com/DNSzensur\" target=\"_blank\" title=\"Twitter\"><i aria-hidden=\"true\" class=\"fa fa-lg fa-twitter\"></i></a></p>\n",
       "</div>\n",
       "</footer>\n",
       "<script src=\"src/js/jquery-3.2.1.min.js\"></script>\n",
       "<script src=\"src/js/bootstrap.min.js\"></script>\n",
       "<script src=\"src/js/bootstrap-table.min.js\"></script>\n",
       "<script src=\"src/js/bootstrap-table-de-DE.min.js\"></script>\n",
       "<script type=\"text/javascript\">\n",
       "  var _paq = _paq || [];\n",
       "  /* tracker methods like \"setCustomDimension\" should be called before \"trackPageView\" */\n",
       "  _paq.push(['trackPageView']);\n",
       "  _paq.push(['enableLinkTracking']);\n",
       "  (function() {\n",
       "    var u=\"//stat.dnszensur.ch/\";\n",
       "    _paq.push(['setTrackerUrl', u+'piwik.php']);\n",
       "    _paq.push(['setSiteId', '1']);\n",
       "    var d=document, g=d.createElement('script'), s=d.getElementsByTagName('script')[0];\n",
       "    g.type='text/javascript'; g.async=true; g.defer=true; g.src=u+'piwik.js'; s.parentNode.insertBefore(g,s);\n",
       "  })();\n",
       "</script>\n",
       "<script>\n",
       "\n",
       "  // Ersetzt id durch font awesome icons\n",
       "  function zensurtypFormatter(value) {\n",
       "    if (value.match(0)) {\n",
       "            var icon = 'fa-check text-success';\n",
       "            tooltiptext = 'nicht gesperrt';\n",
       "            } else if (value.match(1)) {\n",
       "              icon = 'fa-ban text-danger';\n",
       "              tooltiptext = 'gesperrt';\n",
       "            } else if (value.match(2)) {\n",
       "              icon = 'fa-ban text-danger';\n",
       "              tooltiptext = 'gesperrt';\n",
       "            } else if (value.match(3)) {\n",
       "            icon = 'fa-ban text-danger';\n",
       "            tooltiptext = 'gesperrt';\n",
       "            } else if (value.match(4)) {\n",
       "              icon = 'fa-ban text-danger';\n",
       "              tooltiptext = 'gesperrt';\n",
       "            } else {\n",
       "            icon = 'black';\n",
       "            };\n",
       "    return  '<i class=\"fa ' + icon + '\" aria-hidden=\"true\" data-toggle=\"tooltip\" data-placement=\"right\" title=\"' + tooltiptext + '\"></i>';\n",
       "  }\n",
       "\n",
       "</script>\n",
       "</body>\n",
       "</html>"
      ]
     },
     "execution_count": 3,
     "metadata": {},
     "output_type": "execute_result"
    }
   ],
   "source": [
    "dnszensur"
   ]
  },
  {
   "cell_type": "code",
   "execution_count": null,
   "metadata": {
    "collapsed": true
   },
   "outputs": [],
   "source": []
  }
 ],
 "metadata": {
  "kernelspec": {
   "display_name": "Python 3",
   "language": "python",
   "name": "python3"
  },
  "language_info": {
   "codemirror_mode": {
    "name": "ipython",
    "version": 3
   },
   "file_extension": ".py",
   "mimetype": "text/x-python",
   "name": "python",
   "nbconvert_exporter": "python",
   "pygments_lexer": "ipython3",
   "version": "3.5.1"
  }
 },
 "nbformat": 4,
 "nbformat_minor": 2
}
