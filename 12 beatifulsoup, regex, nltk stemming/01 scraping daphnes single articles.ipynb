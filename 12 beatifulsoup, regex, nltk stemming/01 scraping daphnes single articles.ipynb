{
 "cells": [
  {
   "cell_type": "code",
   "execution_count": 62,
   "metadata": {},
   "outputs": [],
   "source": [
    "import pandas as pd\n",
    "import requests\n",
    "from bs4 import BeautifulSoup\n",
    "import time\n",
    "import progressbar"
   ]
  },
  {
   "cell_type": "markdown",
   "metadata": {},
   "source": [
    "# Importing URLs to visit"
   ]
  },
  {
   "cell_type": "code",
   "execution_count": 84,
   "metadata": {},
   "outputs": [],
   "source": [
    "df = pd.read_csv('allPosts.csv', sep='\\t', encoding='utf-16')"
   ]
  },
  {
   "cell_type": "code",
   "execution_count": 85,
   "metadata": {},
   "outputs": [
    {
     "name": "stdout",
     "output_type": "stream",
     "text": [
      "<class 'pandas.core.frame.DataFrame'>\n",
      "RangeIndex: 21414 entries, 0 to 21413\n",
      "Data columns (total 9 columns):\n",
      "Unnamed: 0    21414 non-null int64\n",
      "Date_1        21414 non-null int64\n",
      "Date_2        21414 non-null int64\n",
      "Date_3        21414 non-null object\n",
      "ID_page       21414 non-null int64\n",
      "ID_post       21414 non-null int64\n",
      "Link          21414 non-null object\n",
      "Title         21414 non-null object\n",
      "Txt           18882 non-null object\n",
      "dtypes: int64(5), object(4)\n",
      "memory usage: 1.5+ MB\n"
     ]
    }
   ],
   "source": [
    "df.info()"
   ]
  },
  {
   "cell_type": "code",
   "execution_count": 88,
   "metadata": {},
   "outputs": [],
   "source": [
    "urls = list(df['Link'])\n",
    "titles = list(df['Title'])"
   ]
  },
  {
   "cell_type": "markdown",
   "metadata": {},
   "source": [
    "# Visit on URLs"
   ]
  },
  {
   "cell_type": "code",
   "execution_count": 57,
   "metadata": {},
   "outputs": [
    {
     "data": {
      "text/plain": [
       "'https://daphnecaruanagalizia.com/2015/10/erin-tanti-pulls-out-of-university/'"
      ]
     },
     "execution_count": 57,
     "metadata": {},
     "output_type": "execute_result"
    }
   ],
   "source": [
    "urls[1000]"
   ]
  },
  {
   "cell_type": "code",
   "execution_count": 58,
   "metadata": {},
   "outputs": [],
   "source": [
    "url = urls[1000]\n",
    "response = requests.get(url)\n",
    "t = BeautifulSoup(response.text, 'html.parser')"
   ]
  },
  {
   "cell_type": "code",
   "execution_count": 59,
   "metadata": {},
   "outputs": [
    {
     "data": {
      "text/plain": [
       "[<p style=\"width: 130px;float: left;text-align: left; margin:-4px 0 0 -5px;\">\n",
       " <a href=\"/\">« back to home</a>\n",
       " </p>,\n",
       " <p class=\"no-break\"><span class=\"st_facebook_hcount\" st_title=\"Erin Tanti pulls out of university\" st_url=\"https://daphnecaruanagalizia.com/2015/10/erin-tanti-pulls-out-of-university/\"></span> <span class=\"st_twitter_hcount\" st_title=\"Erin Tanti pulls out of university\" st_url=\"https://daphnecaruanagalizia.com/2015/10/erin-tanti-pulls-out-of-university/\" st_username=\"dcgblog\" st_via=\"dcgblog\"></span> <span class=\"st_linkedin_hcount\" st_title=\"Erin Tanti pulls out of university\" st_url=\"https://daphnecaruanagalizia.com/2015/10/erin-tanti-pulls-out-of-university/\"></span></p>,\n",
       " <p><a href=\"https://daphnecaruanagalizia.com/wp-content/uploads/2014/03/erin_stuart_tanti_1.jpg.png\"><img alt=\"erin_stuart_tanti_1.jpg\" class=\"aligncenter size-full wp-image-45077\" height=\"400\" sizes=\"(max-width: 684px) 100vw, 684px\" src=\"https://daphnecaruanagalizia.com/wp-content/uploads/2014/03/erin_stuart_tanti_1.jpg.png\" srcset=\"https://daphnecaruanagalizia.com/wp-content/uploads/2014/03/erin_stuart_tanti_1.jpg.png 684w, https://daphnecaruanagalizia.com/wp-content/uploads/2014/03/erin_stuart_tanti_1.jpg-300x175.png 300w\" width=\"684\"/></a></p>,\n",
       " <p>I am informed that Erin Tanti, who is to stand trial for the murder of one of his 15-year-old pupils, but who is out on bail, has pulled out of university.</p>,\n",
       " <p>Tanti had enrolled at the University of Malta to begin reading for a bachelor’s degree in psychology and anthropology. He began going to lectures this month. A controversy erupted following a report on this website, which led to the Attorney General requesting the court to appoint three psychiatrists to assess whether it is safe to allow him in that environment, for the safety of others and his own.</p>,\n",
       " <p><span class=\"st_facebook_hcount\" st_title=\"Erin Tanti pulls out of university\" st_url=\"https://daphnecaruanagalizia.com/2015/10/erin-tanti-pulls-out-of-university/\"></span> <span class=\"st_twitter_hcount\" st_title=\"Erin Tanti pulls out of university\" st_url=\"https://daphnecaruanagalizia.com/2015/10/erin-tanti-pulls-out-of-university/\" st_username=\"dcgblog\" st_via=\"dcgblog\"></span> <span class=\"st_linkedin_hcount\" st_title=\"Erin Tanti pulls out of university\" st_url=\"https://daphnecaruanagalizia.com/2015/10/erin-tanti-pulls-out-of-university/\"></span></p>,\n",
       " <p style=\"width: 45%;float: left;text-align: left;\"><a href=\"https://daphnecaruanagalizia.com/2015/10/the-department-of-information-gets-its-chrises-confused/\" rel=\"prev\">« previous post</a></p>,\n",
       " <p style=\"width: 45%;float: right; text-align: right;\"><a href=\"https://daphnecaruanagalizia.com/2015/10/man-in-staged-electoral-campaign-visit-put-on-state-payroll-at-transport-malta/\" rel=\"next\">next post »</a></p>]"
      ]
     },
     "execution_count": 59,
     "metadata": {},
     "output_type": "execute_result"
    }
   ],
   "source": [
    "t.find_all('p')"
   ]
  },
  {
   "cell_type": "code",
   "execution_count": 60,
   "metadata": {},
   "outputs": [],
   "source": [
    "at = ''\n",
    "for elem in t.find_all('p'):\n",
    "    at += elem.text"
   ]
  },
  {
   "cell_type": "code",
   "execution_count": 61,
   "metadata": {},
   "outputs": [
    {
     "data": {
      "text/plain": [
       "'\\n« back to home\\n  I am informed that Erin Tanti, who is to stand trial for the murder of one of his 15-year-old pupils, but who is out on bail, has pulled out of university.Tanti had enrolled at the University of Malta to begin reading for a bachelor’s degree in psychology and anthropology. He began going to lectures this month. A controversy erupted following a report on this website, which led to the Attorney General requesting the court to appoint three psychiatrists to assess whether it is safe to allow him in that environment, for the safety of others and his own.  « previous postnext post »'"
      ]
     },
     "execution_count": 61,
     "metadata": {},
     "output_type": "execute_result"
    }
   ],
   "source": [
    "at"
   ]
  },
  {
   "cell_type": "markdown",
   "metadata": {},
   "source": [
    "# Visiting all URLs"
   ]
  },
  {
   "cell_type": "code",
   "execution_count": 89,
   "metadata": {},
   "outputs": [
    {
     "name": "stderr",
     "output_type": "stream",
     "text": [
      " 99% (99 of 100) |######################## | Elapsed Time: 0:01:41 ETA: 0:00:01"
     ]
    }
   ],
   "source": [
    "bar = progressbar.ProgressBar()\n",
    "\n",
    "text_list = []\n",
    "for url,i in zip(urls[:100], bar(range(len(urls[:100])))):\n",
    "    response = requests.get(url)\n",
    "    t = BeautifulSoup(response.text, 'html.parser') \n",
    "    at = ''\n",
    "    for elem in t.find_all('p'):\n",
    "        at += elem.text\n",
    "    text_list.append({'Text':at})"
   ]
  },
  {
   "cell_type": "code",
   "execution_count": 90,
   "metadata": {},
   "outputs": [],
   "source": [
    "txt_lst = list(pd.DataFrame(text_list)['Text'])"
   ]
  },
  {
   "cell_type": "markdown",
   "metadata": {},
   "source": [
    "# Connecting all posts "
   ]
  },
  {
   "cell_type": "code",
   "execution_count": 93,
   "metadata": {
    "collapsed": true
   },
   "outputs": [],
   "source": [
    "df_t = df[:100]"
   ]
  },
  {
   "cell_type": "code",
   "execution_count": 94,
   "metadata": {},
   "outputs": [
    {
     "name": "stderr",
     "output_type": "stream",
     "text": [
      "/Users/barneyjs/.virtualenvs/master/lib/python3.5/site-packages/ipykernel_launcher.py:1: SettingWithCopyWarning: \n",
      "A value is trying to be set on a copy of a slice from a DataFrame.\n",
      "Try using .loc[row_indexer,col_indexer] = value instead\n",
      "\n",
      "See the caveats in the documentation: http://pandas.pydata.org/pandas-docs/stable/indexing.html#indexing-view-versus-copy\n",
      "  \"\"\"Entry point for launching an IPython kernel.\n"
     ]
    }
   ],
   "source": [
    "df_t['Text'] = txt_lst"
   ]
  },
  {
   "cell_type": "code",
   "execution_count": 96,
   "metadata": {
    "collapsed": true
   },
   "outputs": [],
   "source": [
    "df_t.to_csv('allPostText_test.csv')"
   ]
  },
  {
   "cell_type": "code",
   "execution_count": null,
   "metadata": {
    "collapsed": true
   },
   "outputs": [],
   "source": []
  }
 ],
 "metadata": {
  "kernelspec": {
   "display_name": "Python 3",
   "language": "python",
   "name": "python3"
  },
  "language_info": {
   "codemirror_mode": {
    "name": "ipython",
    "version": 3
   },
   "file_extension": ".py",
   "mimetype": "text/x-python",
   "name": "python",
   "nbconvert_exporter": "python",
   "pygments_lexer": "ipython3",
   "version": "3.5.1"
  }
 },
 "nbformat": 4,
 "nbformat_minor": 2
}
