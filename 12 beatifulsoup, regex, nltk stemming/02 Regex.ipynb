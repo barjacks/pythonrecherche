{
 "cells": [
  {
   "cell_type": "code",
   "execution_count": 1,
   "metadata": {
    "collapsed": true
   },
   "outputs": [],
   "source": [
    "import pandas as pd\n",
    "import re"
   ]
  },
  {
   "cell_type": "markdown",
   "metadata": {},
   "source": [
    "# First we'll import the data"
   ]
  },
  {
   "cell_type": "code",
   "execution_count": 5,
   "metadata": {},
   "outputs": [],
   "source": [
    "df = pd.read_csv('allPostText_test.csv')"
   ]
  },
  {
   "cell_type": "code",
   "execution_count": 9,
   "metadata": {},
   "outputs": [
    {
     "data": {
      "text/plain": [
       "0    \\n« back to home\\n  You can wear the flashiest...\n",
       "1    \\n« back to home\\n  Exit polls show that Sebas...\n",
       "2    \\n« back to home\\n  Is it going to be a five-y...\n",
       "3    \\n« back to home\\n  The disgraceful thing is t...\n",
       "4    \\n« back to home\\n  “I don’t recall any other ...\n",
       "Name: Text, dtype: object"
      ]
     },
     "execution_count": 9,
     "metadata": {},
     "output_type": "execute_result"
    }
   ],
   "source": [
    "df['Text'].head()"
   ]
  },
  {
   "cell_type": "markdown",
   "metadata": {},
   "source": [
    "# Lets clean it a bit "
   ]
  },
  {
   "cell_type": "code",
   "execution_count": 12,
   "metadata": {
    "collapsed": true
   },
   "outputs": [],
   "source": [
    "def clean(elem):\n",
    "    elem = elem.replace('\\n« back to home\\n  ', '')\n",
    "    elem = elem.replace('« previous postnext post »', '').strip()\n",
    "    return elem"
   ]
  },
  {
   "cell_type": "code",
   "execution_count": 14,
   "metadata": {},
   "outputs": [
    {
     "data": {
      "text/plain": [
       "0    You can wear the flashiest watch and keep your...\n",
       "1    Exit polls show that Sebastian Kurz, 31, is ab...\n",
       "2    Is it going to be a five-year electoral campai...\n",
       "3    The disgraceful thing is that this man has bee...\n",
       "4    “I don’t recall any other budget having given ...\n",
       "5                                                     \n",
       "6                                       I mean, really\n",
       "7    Toni Bezzina, the member of parliament, entere...\n",
       "8                                                     \n",
       "9    David Agius today came forward officially as a...\n",
       "Name: Text, dtype: object"
      ]
     },
     "execution_count": 14,
     "metadata": {},
     "output_type": "execute_result"
    }
   ],
   "source": [
    "df['Text'].apply(clean).head(10)"
   ]
  },
  {
   "cell_type": "code",
   "execution_count": 17,
   "metadata": {
    "collapsed": true
   },
   "outputs": [],
   "source": [
    "df['Text'] = df['Text'].apply(clean)"
   ]
  },
  {
   "cell_type": "code",
   "execution_count": 19,
   "metadata": {},
   "outputs": [],
   "source": [
    "df = df[df['Text'] != '']"
   ]
  },
  {
   "cell_type": "markdown",
   "metadata": {},
   "source": [
    "# Lets find some text and numbers"
   ]
  },
  {
   "cell_type": "markdown",
   "metadata": {},
   "source": [
    "First a [simple search](https://docs.python.org/2/library/re.html). "
   ]
  },
  {
   "cell_type": "code",
   "execution_count": 23,
   "metadata": {
    "collapsed": true
   },
   "outputs": [],
   "source": [
    "text = df['Text'][10]"
   ]
  },
  {
   "cell_type": "code",
   "execution_count": 38,
   "metadata": {},
   "outputs": [
    {
     "data": {
      "text/plain": [
       "'Yesterday in the car I was listening to the lunchtime talk-show on the Nationalist Party’s radio station, hosted by Evelyn Vella Brincat, whose brother is the failed party leadership contender Frank Portelli. It was unbearable, but I felt I needed to suffer through it in the interest of journalism. David Agius, the party whip and contender for the post of deputy leader, was on with her.I finally switched off when Mrs Vella Brincat announced that it was David Agius’s birthday – how old is he, 10? – that those listening to the show should give him “the best birthday present ever by becoming members of the Nationalist Party, because I have known David for a long time and he has always been a party boy so he will want that more than anything” (translated from the Maltese).Then the intellectually challenged and free-loading Mr Agius, who should have been at his state-paid job at the Freeport at that time of day, interjected and said that what he wants more than anything is: “Li nara l-Partit Nazzjonalista jinżel fil-grawnd, jilgħab il-logħba mal-Partit Laburista u jirbaħ.” (“To see the Nationalist Party walk onto the football pitch, play a game against the Labour Party, and win.”)This is what it has come to: the triumph of evil and idiocy, a kakocracy  on one side of the House and an idiocracy  on the other.Nationalist Party deputy leadership contender David Agius (left) with party leader Adrian Delia: the serious business of the running of the country treated like a game of football in which the sole aim is for the Nationalist Party to ‘win the game’ against Labour.'"
      ]
     },
     "execution_count": 38,
     "metadata": {},
     "output_type": "execute_result"
    }
   ],
   "source": [
    "text"
   ]
  },
  {
   "cell_type": "code",
   "execution_count": 30,
   "metadata": {},
   "outputs": [
    {
     "data": {
      "text/plain": [
       "<_sre.SRE_Match object; span=(17, 20), match='car'>"
      ]
     },
     "execution_count": 30,
     "metadata": {},
     "output_type": "execute_result"
    }
   ],
   "source": [
    "re.search(r'car', text)"
   ]
  },
  {
   "cell_type": "code",
   "execution_count": 36,
   "metadata": {},
   "outputs": [
    {
     "data": {
      "text/plain": [
       "'car'"
      ]
     },
     "execution_count": 36,
     "metadata": {},
     "output_type": "execute_result"
    }
   ],
   "source": [
    "re.search(r'car', text).group()"
   ]
  },
  {
   "cell_type": "code",
   "execution_count": 37,
   "metadata": {},
   "outputs": [
    {
     "data": {
      "text/plain": [
       "['car']"
      ]
     },
     "execution_count": 37,
     "metadata": {},
     "output_type": "execute_result"
    }
   ],
   "source": [
    "re.findall(r'car', text)"
   ]
  },
  {
   "cell_type": "code",
   "execution_count": 42,
   "metadata": {
    "collapsed": true
   },
   "outputs": [],
   "source": [
    "# Now lets match patterns"
   ]
  },
  {
   "cell_type": "code",
   "execution_count": 35,
   "metadata": {},
   "outputs": [
    {
     "data": {
      "text/plain": [
       "'1'"
      ]
     },
     "execution_count": 35,
     "metadata": {},
     "output_type": "execute_result"
    }
   ],
   "source": [
    "re.search(r'[0-9]', text).group()"
   ]
  },
  {
   "cell_type": "code",
   "execution_count": 39,
   "metadata": {},
   "outputs": [
    {
     "data": {
      "text/plain": [
       "['1', '0']"
      ]
     },
     "execution_count": 39,
     "metadata": {},
     "output_type": "execute_result"
    }
   ],
   "source": [
    "re.findall(r'[0-9]', text)"
   ]
  },
  {
   "cell_type": "code",
   "execution_count": 41,
   "metadata": {},
   "outputs": [
    {
     "data": {
      "text/plain": [
       "['10']"
      ]
     },
     "execution_count": 41,
     "metadata": {},
     "output_type": "execute_result"
    }
   ],
   "source": [
    "re.findall(r'[0-9]+', text)"
   ]
  },
  {
   "cell_type": "markdown",
   "metadata": {},
   "source": [
    "lets go to [https://regexr.com](https://regexr.com/) to practice. Try to match the names in the text above."
   ]
  },
  {
   "cell_type": "markdown",
   "metadata": {},
   "source": [
    "# Regexing"
   ]
  },
  {
   "cell_type": "code",
   "execution_count": 45,
   "metadata": {},
   "outputs": [
    {
     "data": {
      "text/plain": [
       "['Nationalist Party',\n",
       " 'Evelyn Vella',\n",
       " 'Frank Portelli',\n",
       " 'David Agius',\n",
       " 'Mrs Vella',\n",
       " 'David Agius',\n",
       " 'Nationalist Party',\n",
       " 'Mr Agius',\n",
       " 'Partit Nazzjonalista',\n",
       " 'Partit Laburista',\n",
       " 'Nationalist Party',\n",
       " 'Labour Party',\n",
       " 'Nationalist Party',\n",
       " 'David Agius',\n",
       " 'Adrian Delia',\n",
       " 'Nationalist Party']"
      ]
     },
     "execution_count": 45,
     "metadata": {},
     "output_type": "execute_result"
    }
   ],
   "source": [
    "re.findall(r'[A-Z]\\w+\\s[A-Z]\\w+', text)"
   ]
  },
  {
   "cell_type": "markdown",
   "metadata": {},
   "source": [
    "# lets make a function including a Regex"
   ]
  },
  {
   "cell_type": "code",
   "execution_count": 46,
   "metadata": {
    "collapsed": true
   },
   "outputs": [],
   "source": [
    "def regexing(elem):\n",
    "    lst = re.findall(r'[A-Z]\\w+\\s[A-Z]\\w+', elem)\n",
    "    return lst"
   ]
  },
  {
   "cell_type": "code",
   "execution_count": 50,
   "metadata": {},
   "outputs": [
    {
     "name": "stderr",
     "output_type": "stream",
     "text": [
      "/Users/barneyjs/.virtualenvs/master/lib/python3.5/site-packages/ipykernel_launcher.py:1: SettingWithCopyWarning: \n",
      "A value is trying to be set on a copy of a slice from a DataFrame.\n",
      "Try using .loc[row_indexer,col_indexer] = value instead\n",
      "\n",
      "See the caveats in the documentation: http://pandas.pydata.org/pandas-docs/stable/indexing.html#indexing-view-versus-copy\n",
      "  \"\"\"Entry point for launching an IPython kernel.\n"
     ]
    }
   ],
   "source": [
    "df['Names'] = df['Text'].apply(regexing)"
   ]
  },
  {
   "cell_type": "code",
   "execution_count": 53,
   "metadata": {},
   "outputs": [
    {
     "data": {
      "text/plain": [
       "[[],\n",
       " ['Sebastian Kurz',\n",
       "  'Freedom Party',\n",
       "  'Social Democrats',\n",
       "  'Sebastian Kurz',\n",
       "  'Christian Kern',\n",
       "  'Social Democrats',\n",
       "  'Christian Strache',\n",
       "  'Sebastian Kurz'],\n",
       " ['Labour Party',\n",
       "  'Prime Minister',\n",
       "  'Nationalist Party',\n",
       "  'Rank Xerox',\n",
       "  'Kristy Debono',\n",
       "  'Hermann Schiavone',\n",
       "  'Nationalist Party'],\n",
       " ['Nationalist Party', 'The Nationalist', 'European Union'],\n",
       " []]"
      ]
     },
     "execution_count": 53,
     "metadata": {},
     "output_type": "execute_result"
    }
   ],
   "source": [
    "list(df['Names'])[:5]"
   ]
  },
  {
   "cell_type": "code",
   "execution_count": 55,
   "metadata": {
    "collapsed": true
   },
   "outputs": [],
   "source": [
    "lst = list(df['Names'])"
   ]
  },
  {
   "cell_type": "markdown",
   "metadata": {},
   "source": [
    "# Now we want to see, who is mentioned the most"
   ]
  },
  {
   "cell_type": "code",
   "execution_count": 58,
   "metadata": {},
   "outputs": [],
   "source": [
    "# First we need to delete the empty lists:\n",
    "lst = [x for x in lst if x != []]"
   ]
  },
  {
   "cell_type": "code",
   "execution_count": 59,
   "metadata": {},
   "outputs": [
    {
     "data": {
      "text/plain": [
       "[['Sebastian Kurz',\n",
       "  'Freedom Party',\n",
       "  'Social Democrats',\n",
       "  'Sebastian Kurz',\n",
       "  'Christian Kern',\n",
       "  'Social Democrats',\n",
       "  'Christian Strache',\n",
       "  'Sebastian Kurz'],\n",
       " ['Labour Party',\n",
       "  'Prime Minister',\n",
       "  'Nationalist Party',\n",
       "  'Rank Xerox',\n",
       "  'Kristy Debono',\n",
       "  'Hermann Schiavone',\n",
       "  'Nationalist Party'],\n",
       " ['Nationalist Party', 'The Nationalist', 'European Union'],\n",
       " ['Toni Bezzina',\n",
       "  'Nationalist Party',\n",
       "  'MP Robert',\n",
       "  'Edwin Vassallo',\n",
       "  'David Agius',\n",
       "  'Mr Agius',\n",
       "  'Toni Bezzina',\n",
       "  'Robert Arrigo',\n",
       "  'Nationalist Party'],\n",
       " ['David Agius',\n",
       "  'Nationalist Party',\n",
       "  'Edwin Vassallo',\n",
       "  'Nationalist Party',\n",
       "  'Chris Said',\n",
       "  'Adrian Delia',\n",
       "  'Dr Said',\n",
       "  'Dr Said',\n",
       "  'Mr Vassallo',\n",
       "  'Dr Said',\n",
       "  'David Agius',\n",
       "  'Dr Said',\n",
       "  'Mr Agius',\n",
       "  'Dr Delia',\n",
       "  'Dr Said',\n",
       "  'Dr Delia',\n",
       "  'Dr Said',\n",
       "  'Mr Agius',\n",
       "  'Dr Delia',\n",
       "  'Nationalist Party',\n",
       "  'Robert Arrigo',\n",
       "  'Clyde Puli',\n",
       "  'When David',\n",
       "  'Chris Said',\n",
       "  'Mr Puli',\n",
       "  'Dr Delia',\n",
       "  'Edwin Vassallo',\n",
       "  'Dr Delia',\n",
       "  'Mr Agius',\n",
       "  'Robert Arrigo',\n",
       "  'Dr Delia'],\n",
       " ['Nationalist Party',\n",
       "  'Evelyn Vella',\n",
       "  'Frank Portelli',\n",
       "  'David Agius',\n",
       "  'Mrs Vella',\n",
       "  'David Agius',\n",
       "  'Nationalist Party',\n",
       "  'Mr Agius',\n",
       "  'Partit Nazzjonalista',\n",
       "  'Partit Laburista',\n",
       "  'Nationalist Party',\n",
       "  'Labour Party',\n",
       "  'Nationalist Party',\n",
       "  'David Agius',\n",
       "  'Adrian Delia',\n",
       "  'Nationalist Party'],\n",
       " ['The Malta',\n",
       "  'Mrs Delia',\n",
       "  'Rebecca Dimech',\n",
       "  'Mrs Delia',\n",
       "  'Miss Dimech',\n",
       "  'Rebecca Dimech',\n",
       "  'Mrs Delia',\n",
       "  'Miss Dimech',\n",
       "  'Miss Dimech',\n",
       "  'Andre Falzon',\n",
       "  'Mrs Delia',\n",
       "  'The Opposition',\n",
       "  'Miss Dimech',\n",
       "  'Adrian Delia',\n",
       "  'Massimo Dutti',\n",
       "  'Rebecca Dimech',\n",
       "  'Dr Nickie',\n",
       "  'Mrs Delia',\n",
       "  'Rebecca DimechRebecca',\n",
       "  'The Opposition',\n",
       "  'Rebecca Dimech'],\n",
       " ['Mrs Adrian',\n",
       "  'Elisabetta Franchi',\n",
       "  'Bisazza Street',\n",
       "  'Dizz Group',\n",
       "  'Mrs Delia',\n",
       "  'Mrs Delia',\n",
       "  'HSBC Bank',\n",
       "  'Dr Delia',\n",
       "  'The Elisabetta',\n",
       "  'Bisazza Street',\n",
       "  'Mrs Delia'],\n",
       " ['Nationalist Party', 'New Way'],\n",
       " ['Nationalist Party'],\n",
       " ['Louise Tedesco',\n",
       "  'Nationalist Party',\n",
       "  'The Great',\n",
       "  'Democratic Uzbekistani',\n",
       "  'Nationalist Party',\n",
       "  'Smashing Uzbekistan'],\n",
       " ['Nationalist Party',\n",
       "  'Adrian Delia',\n",
       "  'Chief Justice',\n",
       "  'Massimo Dutti',\n",
       "  'The Point',\n",
       "  'Maltese Constitution',\n",
       "  'Massimo Dutti',\n",
       "  'Massimo Dutti',\n",
       "  'Massimo Dutti',\n",
       "  'Nationalist Party',\n",
       "  'Dr Delia',\n",
       "  'Nationalist Party',\n",
       "  'Dr Delia',\n",
       "  'Nationalist Party',\n",
       "  'Last Friday',\n",
       "  'Massimo Dutti',\n",
       "  'The Point',\n",
       "  'Chief Justice',\n",
       "  'Nationalist Party',\n",
       "  'Nationalist Party',\n",
       "  'Nationalist Party',\n",
       "  'Adrian Delia',\n",
       "  'Adrian Delia',\n",
       "  'Massimo Dutti',\n",
       "  'Chief Justice',\n",
       "  'Nationalist Party'],\n",
       " ['Labour Party',\n",
       "  'Nationalist Party',\n",
       "  'Adrian Delia',\n",
       "  'Nationalist Party',\n",
       "  'Nationalist Party',\n",
       "  'Nationalist Party',\n",
       "  'Frank Portelli',\n",
       "  'Nationalist Party',\n",
       "  'Nationalist Party',\n",
       "  'Nationalist Party',\n",
       "  'Mrs Delia',\n",
       "  'Malta Today',\n",
       "  'Nationalist Party',\n",
       "  'Nationalist Party',\n",
       "  'Nationalist Party',\n",
       "  'Nationalist Party',\n",
       "  'European Parliament',\n",
       "  'Nationalist Party',\n",
       "  'Frank Portelli'],\n",
       " ['Adrian Delia', 'Chief Justice', 'Sander Borg', 'Chief Justice'],\n",
       " ['Independence Day',\n",
       "  'Mrs Delia',\n",
       "  'Mrs Muscat',\n",
       "  'So Excited',\n",
       "  'At The',\n",
       "  'First Rains',\n",
       "  'Wore My',\n",
       "  'Women In',\n",
       "  'Public Life'],\n",
       " ['Adrian Delia', 'Chief Justice', 'The Malta'],\n",
       " ['Prime Minister', 'Sunita Mukhi'],\n",
       " ['An Opposition', 'An Opposition'],\n",
       " ['Adrian Delia',\n",
       "  'Keith Schembri',\n",
       "  'Pasta Rummo',\n",
       "  'Pasta Rummo',\n",
       "  'Keith Schembri'],\n",
       " ['Great Gay',\n",
       "  'Political War',\n",
       "  'Joseph Muscat',\n",
       "  'Labour Party',\n",
       "  'Labour Party',\n",
       "  'Gabi Calleja',\n",
       "  'Nationalist Party',\n",
       "  'Nationalist Party',\n",
       "  'CC Bill',\n",
       "  'Aequitas Management',\n",
       "  'Aequitas Legal',\n",
       "  'Georg Sapiano',\n",
       "  'Adrian Delia',\n",
       "  'Gabi Calleja',\n",
       "  'Joseph Muscat'],\n",
       " ['Adrian Delia',\n",
       "  'Nationalist Party',\n",
       "  'Joseph Muscat',\n",
       "  'Keith Schembri',\n",
       "  'Christian Kalin'],\n",
       " ['Last November',\n",
       "  'Prime Minister',\n",
       "  'New York',\n",
       "  'Finance Minister',\n",
       "  'Central Bank',\n",
       "  'Malta Financial',\n",
       "  'Services Authority',\n",
       "  'Central Bank',\n",
       "  'Finance Minister',\n",
       "  'Prime Minister',\n",
       "  'New York',\n",
       "  'Joe Bannister'],\n",
       " ['Nationalist Party',\n",
       "  'Adrian Delia',\n",
       "  'Far Right',\n",
       "  'Kristy Debono',\n",
       "  'Mrs Delia',\n",
       "  'Mrs Delia',\n",
       "  'Jean Pierre',\n",
       "  'Kristy Debono'],\n",
       " ['Nationalist Party'],\n",
       " ['Frank Portelli',\n",
       "  'Labour Party',\n",
       "  'Nationalist Party',\n",
       "  'Edwin Vassallo',\n",
       "  'Nationalist Minister',\n",
       "  'European Commissioner',\n",
       "  'Tonio Borg',\n",
       "  'GRANDE ADRIAN',\n",
       "  'Dr Borg',\n",
       "  'Tonio Borg',\n",
       "  'Nationalist Party',\n",
       "  'Dr Borg',\n",
       "  'Far Right',\n",
       "  'Former Nationalist',\n",
       "  'European Commissioner',\n",
       "  'Tonio Borg',\n",
       "  'Nationalist Party',\n",
       "  'Adrian Delia'],\n",
       " ['Anton Rea', 'Planning Authority'],\n",
       " ['Anton Rea',\n",
       "  'Keith Seychell',\n",
       "  'Environment Minister',\n",
       "  'VAT Department',\n",
       "  'Inland Revenue',\n",
       "  'Planning Authority',\n",
       "  'Mr Cutajar',\n",
       "  'Prime Minister',\n",
       "  'Prime Minister',\n",
       "  'Planning Authority',\n",
       "  'Prime Minister',\n",
       "  'Anton Rea',\n",
       "  'Mr Cutajar'],\n",
       " ['Anton Rea',\n",
       "  'Planning Authority',\n",
       "  'Mr Cutajar',\n",
       "  'Prime Minister',\n",
       "  'Mrs Muscat',\n",
       "  'Labour Party',\n",
       "  'Environment Authority',\n",
       "  'Planning Authority',\n",
       "  'Mr Cutajar',\n",
       "  'Mr Cutajar',\n",
       "  'Anton Rea',\n",
       "  'Mr Cutajar',\n",
       "  'Prime Minister'],\n",
       " ['Anton Rea',\n",
       "  'Environment Minister',\n",
       "  'Jose Herrera',\n",
       "  'Capo Crudo',\n",
       "  'Keith Seychell',\n",
       "  'Silvio Parnis',\n",
       "  'Global Capital',\n",
       "  'Chris Pace',\n",
       "  'Ivan Portelli',\n",
       "  'VAT Department',\n",
       "  'Inland Revenue',\n",
       "  'Planning Authority',\n",
       "  'Mr Cutajar',\n",
       "  'The Planning',\n",
       "  'Mr Cutajar',\n",
       "  'Labour Party',\n",
       "  'Fifth District',\n",
       "  'Prime Minister',\n",
       "  'Prime Minister',\n",
       "  'Kurt Farrugia',\n",
       "  'Economy Minister',\n",
       "  'Labour Party',\n",
       "  'Chris Cardona',\n",
       "  'Mr Cutajar',\n",
       "  'Prime Minister',\n",
       "  'Prime Minister',\n",
       "  'Mr Cutajar',\n",
       "  'The Prime',\n",
       "  'Planning Authority',\n",
       "  'Gulf States',\n",
       "  'Mr Cutajar',\n",
       "  'At Capo',\n",
       "  'Keith Seychell',\n",
       "  'Environment Minister',\n",
       "  'Mrs Jose',\n",
       "  'Keith Seychell',\n",
       "  'Parliamentary Secretary',\n",
       "  'Silvio Parnis',\n",
       "  'Chris Pace',\n",
       "  'Anton Rea',\n",
       "  'Ivan Portelli',\n",
       "  'VAT Department',\n",
       "  'Inland Revenue',\n",
       "  'Samantha Portelli',\n",
       "  'Anton Rea',\n",
       "  'Labour Party',\n",
       "  'Anton Rea',\n",
       "  'Labour Party',\n",
       "  'Anton Rea',\n",
       "  'Kurt Farrugia',\n",
       "  'With Mrs',\n",
       "  'Prime Minister',\n",
       "  'Anton Rea'],\n",
       " ['The British',\n",
       "  'Foreign Secretary',\n",
       "  'Prime Minister',\n",
       "  'Foreign Secretary',\n",
       "  'Iron Curtain'],\n",
       " ['Peter Micallef'],\n",
       " ['Leonardo Fasoli',\n",
       "  'Maddalena Ravagli',\n",
       "  'Maze Pictures',\n",
       "  'The UK',\n",
       "  'Walter Presents',\n",
       "  'Walter Iuzzolino',\n",
       "  'Walter Presents',\n",
       "  'The Godfather',\n",
       "  'Mad Men',\n",
       "  'Kim Rossi'],\n",
       " ['Jean Pierre', 'Nationalist Party', 'Nationalist Party'],\n",
       " ['World Economic'],\n",
       " ['John Bundy',\n",
       "  'Public Broadcasting',\n",
       "  'Services Ltd',\n",
       "  'Burmarrad Commercials',\n",
       "  'Public Broadcasting',\n",
       "  'Services Ltd',\n",
       "  'In John',\n",
       "  'Public Broadcasting',\n",
       "  'John Bundy',\n",
       "  'John Bundy',\n",
       "  'Public Broadcasting',\n",
       "  'Services Ltd',\n",
       "  'Prime Minister',\n",
       "  'Joseph Muscat',\n",
       "  'Labour Party'],\n",
       " ['The Malta',\n",
       "  'Nationalist Party',\n",
       "  'Nationalist Party',\n",
       "  'Adrian Delia',\n",
       "  'Panama Papers',\n",
       "  'Nationalist Party',\n",
       "  'Nationalist Party',\n",
       "  'Nationalist Party',\n",
       "  'Nationalist Party',\n",
       "  'Adrian Delia'],\n",
       " ['Nationalist Party', 'Kristy Debono', 'Barbie Does'],\n",
       " ['Nationalist Party',\n",
       "  'Nationalist Party',\n",
       "  'Wales Road',\n",
       "  'Manwel Dimech',\n",
       "  'Café Giorgio',\n",
       "  'Nationalist Party',\n",
       "  'The Nationalist',\n",
       "  'Karol Aquilina',\n",
       "  'Marlene Farrugia',\n",
       "  'Dr Farrugia',\n",
       "  'Nationalist Party',\n",
       "  'Familiar Sliema',\n",
       "  'Ivan Bartolo',\n",
       "  'Jean Pierre',\n",
       "  'Kristy Debono',\n",
       "  'Robert Arrigo'],\n",
       " ['Rebecca Dimech',\n",
       "  'Miss Dimech',\n",
       "  'Andre Falzon',\n",
       "  'Adrian Delia',\n",
       "  'Nationalist Party',\n",
       "  'Rebecca Dimech',\n",
       "  'Andre Falzon',\n",
       "  'Rebecca Dimech',\n",
       "  'Nationalist Party',\n",
       "  'Adrian Delia',\n",
       "  'Andre Falzon',\n",
       "  'Nationalist Party',\n",
       "  'The PN'],\n",
       " ['Nationalist Party', 'That Maltese', 'Frank Portelli'],\n",
       " ['Clyde Puli',\n",
       "  'Nationalist Party',\n",
       "  'Nationalist Party',\n",
       "  'Something Bad',\n",
       "  'Medical Services',\n",
       "  'Nationalist Party',\n",
       "  'Labour Party',\n",
       "  'Clyde Puli',\n",
       "  'Adrian Delia',\n",
       "  'New Way',\n",
       "  'Medical Services',\n",
       "  'Adrian Delia',\n",
       "  'Clyde Puli',\n",
       "  'Santa Marija',\n",
       "  'Clyde Puli',\n",
       "  'Did On',\n",
       "  'My Summer',\n",
       "  'Parliamentary Secretary',\n",
       "  'Olympic Games',\n",
       "  'Olympic Games',\n",
       "  'Parliamentary Secretary'],\n",
       " ['Boris Johnson', 'Rudyard Kipling', 'Foreign Secretary'],\n",
       " ['Nationalist Party'],\n",
       " ['Nationalist Party',\n",
       "  'Adrian Delia',\n",
       "  'Miss Rebecca',\n",
       "  'Miss Melanie',\n",
       "  'Rebecca Dimech',\n",
       "  'Mrs Delia'],\n",
       " ['Joseph Muscat', 'Adrian Delia', 'Local Councils', 'Nationalist Party'],\n",
       " ['Local Councils',\n",
       "  'The Times',\n",
       "  'The Malta',\n",
       "  'Government Gazette',\n",
       "  'Nationalist Party',\n",
       "  'Labour Party',\n",
       "  'Adrian Delia',\n",
       "  'Joseph Muscat'],\n",
       " ['Melanie Gregory',\n",
       "  'Rebecca Dimech',\n",
       "  'Labour Party',\n",
       "  'Adrian Delia',\n",
       "  'Simple Pleasures',\n",
       "  'Mrs Delia',\n",
       "  'Miss Dimech',\n",
       "  'Mrs Delia',\n",
       "  'Mrs Delia',\n",
       "  'Melanie Gregory',\n",
       "  'Rebecca Dimech',\n",
       "  'Miss Dimech'],\n",
       " ['Victor Calleja', 'Marlene Farrugia'],\n",
       " ['Hubert Zammit', 'Nationalist Party'],\n",
       " ['Adrian Delia', 'Saviour Balzan'],\n",
       " ['Joseph Muscat', 'Labour Party', 'And Delia', 'Air Malta'],\n",
       " ['Independence Day', 'Remembrance Sunday', 'Victoria Beckham', 'Mrs Beckham'],\n",
       " ['Nationalist Party',\n",
       "  'Adrian Delia',\n",
       "  'Paid By',\n",
       "  'The State',\n",
       "  'But Never',\n",
       "  'Goes In',\n",
       "  'To Work',\n",
       "  'Paid By',\n",
       "  'The State',\n",
       "  'But Never',\n",
       "  'Goes In',\n",
       "  'To Work',\n",
       "  'Clyde Puli',\n",
       "  'Prime Minister',\n",
       "  'David Agius',\n",
       "  'Nationalist Party',\n",
       "  'Nationalist Party'],\n",
       " ['Adrian Delia', 'Nationalist Party', 'The Nationalist'],\n",
       " ['Nationalist Party',\n",
       "  'Labour Party',\n",
       "  'Prime Minister',\n",
       "  'The Prime',\n",
       "  'Labour Party',\n",
       "  'Nationalist Party'],\n",
       " ['Private Eye', 'Prime Minister'],\n",
       " ['When Therese',\n",
       "  'Comodini Cachia',\n",
       "  'European Parliament',\n",
       "  'Nationalist Party',\n",
       "  'Now Jean',\n",
       "  'Pierre Debono',\n",
       "  'Comodini Cachia',\n",
       "  'European Parliament',\n",
       "  'Jean Pierre',\n",
       "  'Nationalist Party',\n",
       "  'The Delia',\n",
       "  'Nationalist Party',\n",
       "  'Will Adrian',\n",
       "  'Rebecca Dimech',\n",
       "  'Surely NET',\n",
       "  'Super One',\n",
       "  'Mario Frendo'],\n",
       " ['Nationalist Party', 'Adrian Delia'],\n",
       " ['Prime Minister', 'Adrian Delia'],\n",
       " ['Angela Merkel', 'Nationalist Party'],\n",
       " ['Adrian Delia',\n",
       "  'Jean Pierre',\n",
       "  'The PN',\n",
       "  'Nationalist Party',\n",
       "  'Adrian Delia',\n",
       "  'Jean Pierre',\n",
       "  'Nationalist Party'],\n",
       " ['Adrian Delia', 'Jean Pierre'],\n",
       " ['Adrian Delia', 'The Sunday', 'Keith Schembri'],\n",
       " ['Matthew Xuereb', 'Adrian Delia'],\n",
       " ['Nationalist Party',\n",
       "  'Jean Pierre',\n",
       "  'Malta Today',\n",
       "  'Jean Pierre',\n",
       "  'Jean Pierre',\n",
       "  'When Delia',\n",
       "  'The Malta',\n",
       "  'Jean Pierre',\n",
       "  'Adrian Delia',\n",
       "  'Jean Pierre'],\n",
       " ['Kevin Cassar',\n",
       "  'Malta Medical',\n",
       "  'Nationalist Party',\n",
       "  'Jean Pierre',\n",
       "  'Professor Cassar',\n",
       "  'Eddie Fenech',\n",
       "  'Adrian Delia',\n",
       "  'Independence Day',\n",
       "  'Dr Delia',\n",
       "  'Dr Fenech',\n",
       "  'Professor Cassar',\n",
       "  'Beppe Fenech',\n",
       "  'Nationalist Party',\n",
       "  'Nationalist Party',\n",
       "  'Adrian Delia',\n",
       "  'Dr Delia',\n",
       "  'Dr Delia',\n",
       "  'Ethics Committee',\n",
       "  'Inland Revenue',\n",
       "  'Birkirkara Football',\n",
       "  'Dr Delia',\n",
       "  'Nationalist Party',\n",
       "  'Nationalist Party',\n",
       "  'Nationalist Party'],\n",
       " ['Jean Pierre', 'The Times', 'Adrian Delia'],\n",
       " ['Mrs Muscat', 'Mrs Delia'],\n",
       " ['From Adrian',\n",
       "  'Nationalist Party',\n",
       "  'Labour Party',\n",
       "  'Trade Fair',\n",
       "  'Pierre Portelli'],\n",
       " ['The Nationalist',\n",
       "  'Adrian Delia',\n",
       "  'Nationalist Party',\n",
       "  'Prime Minister',\n",
       "  'Previous Nationalist',\n",
       "  'Prime Minister'],\n",
       " ['Jean Pierre',\n",
       "  'Nationalist Party',\n",
       "  'Nationalist Party',\n",
       "  'Rosette Thake',\n",
       "  'Simon Busuttil',\n",
       "  'Jean Pierre',\n",
       "  'Adrian Delia',\n",
       "  'Georg Sapiano'],\n",
       " ['Adrian Delia',\n",
       "  'Prime Minister',\n",
       "  'Mrs Adrian',\n",
       "  'Armistice Day',\n",
       "  'Brigata Laburista'],\n",
       " ['Alexander Borg',\n",
       "  'New York',\n",
       "  'Prime Minister',\n",
       "  'Borg Olivier',\n",
       "  'Nationalist Party',\n",
       "  'Eddie Fenech',\n",
       "  'Guido Demarco',\n",
       "  'Fenech Adami',\n",
       "  'Lawrence Gonzi',\n",
       "  'Simon Busuttil',\n",
       "  'Adrian Delia',\n",
       "  'Borg Olivier',\n",
       "  'Borg Olivier',\n",
       "  'Nationalist Party',\n",
       "  'Eddie Fenech',\n",
       "  'Lawrence Gonzi',\n",
       "  'Nationalist Party',\n",
       "  'George Borg',\n",
       "  'Dom Mintoff',\n",
       "  'Alexander Borg',\n",
       "  'Prime Minister',\n",
       "  'Borg Olivier',\n",
       "  'Dawn Adams',\n",
       "  'Mrs Borg',\n",
       "  'Roman Catholic',\n",
       "  'Mrs Borg',\n",
       "  'Nationalist Party',\n",
       "  'Adrian Delia'],\n",
       " ['Nationalist Party'],\n",
       " ['Ivan Bartolo',\n",
       "  'Nationalist MP',\n",
       "  'Adrian Delia',\n",
       "  'Great Leader',\n",
       "  'Mr Bartolo',\n",
       "  'Joseph Muscat',\n",
       "  'European Parliament'],\n",
       " ['Adrian Delia', 'Joseph Muscat'],\n",
       " ['Independence Day', 'Nationalist Party', 'Michael Corleone'],\n",
       " ['If Beluga']]"
      ]
     },
     "execution_count": 59,
     "metadata": {},
     "output_type": "execute_result"
    }
   ],
   "source": [
    "lst"
   ]
  },
  {
   "cell_type": "markdown",
   "metadata": {},
   "source": [
    "Flatten [list](https://stackoverflow.com/questions/952914/making-a-flat-list-out-of-list-of-lists-in-python)."
   ]
  },
  {
   "cell_type": "code",
   "execution_count": 60,
   "metadata": {
    "collapsed": true
   },
   "outputs": [],
   "source": [
    "flat_list = [item for sublist in lst for item in sublist]"
   ]
  },
  {
   "cell_type": "markdown",
   "metadata": {},
   "source": [
    "# Now lets count"
   ]
  },
  {
   "cell_type": "code",
   "execution_count": 66,
   "metadata": {},
   "outputs": [
    {
     "data": {
      "text/plain": [
       "Nationalist Party    100\n",
       "Adrian Delia          45\n",
       "Prime Minister        25\n",
       "Labour Party          19\n",
       "Mrs Delia             17\n",
       "Jean Pierre           16\n",
       "Dr Delia              13\n",
       "Mr Cutajar            11\n",
       "Anton Rea             11\n",
       "Rebecca Dimech        11\n",
       "Name: 0, dtype: int64"
      ]
     },
     "execution_count": 66,
     "metadata": {},
     "output_type": "execute_result"
    }
   ],
   "source": [
    "pd.DataFrame(flat_list)[0].value_counts().head(10)"
   ]
  },
  {
   "cell_type": "code",
   "execution_count": 68,
   "metadata": {},
   "outputs": [],
   "source": [
    "df_names = pd.DataFrame(flat_list)"
   ]
  },
  {
   "cell_type": "code",
   "execution_count": 69,
   "metadata": {
    "collapsed": true
   },
   "outputs": [],
   "source": [
    "df_names.to_csv('names.csv')"
   ]
  },
  {
   "cell_type": "code",
   "execution_count": null,
   "metadata": {
    "collapsed": true
   },
   "outputs": [],
   "source": []
  }
 ],
 "metadata": {
  "kernelspec": {
   "display_name": "Python 3",
   "language": "python",
   "name": "python3"
  },
  "language_info": {
   "codemirror_mode": {
    "name": "ipython",
    "version": 3
   },
   "file_extension": ".py",
   "mimetype": "text/x-python",
   "name": "python",
   "nbconvert_exporter": "python",
   "pygments_lexer": "ipython3",
   "version": "3.5.1"
  }
 },
 "nbformat": 4,
 "nbformat_minor": 2
}
