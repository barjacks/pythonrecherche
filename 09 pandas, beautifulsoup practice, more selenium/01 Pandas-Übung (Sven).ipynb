{
 "cells": [
  {
   "cell_type": "code",
   "execution_count": 6,
   "metadata": {
    "collapsed": true
   },
   "outputs": [],
   "source": [
    "import pandas as pd"
   ]
  },
  {
   "cell_type": "code",
   "execution_count": 7,
   "metadata": {},
   "outputs": [
    {
     "name": "stderr",
     "output_type": "stream",
     "text": [
      "b'Skipping line 15384: expected 18 fields, saw 19\\nSkipping line 19118: expected 18 fields, saw 22\\nSkipping line 20104: expected 18 fields, saw 19\\nSkipping line 22178: expected 18 fields, saw 23\\nSkipping line 22426: expected 18 fields, saw 23\\nSkipping line 24491: expected 18 fields, saw 24\\nSkipping line 25196: expected 18 fields, saw 23\\nSkipping line 25210: expected 18 fields, saw 25\\nSkipping line 25782: expected 18 fields, saw 22\\nSkipping line 30599: expected 18 fields, saw 24\\nSkipping line 31698: expected 18 fields, saw 19\\nSkipping line 31798: expected 18 fields, saw 20\\nSkipping line 32463: expected 18 fields, saw 21\\nSkipping line 32727: expected 18 fields, saw 19\\nSkipping line 32743: expected 18 fields, saw 19\\n'\n",
      "b'Skipping line 32845: expected 18 fields, saw 25\\nSkipping line 33518: expected 18 fields, saw 21\\nSkipping line 33579: expected 18 fields, saw 21\\nSkipping line 34695: expected 18 fields, saw 19\\nSkipping line 34935: expected 18 fields, saw 25\\nSkipping line 36780: expected 18 fields, saw 22\\nSkipping line 37615: expected 18 fields, saw 21\\nSkipping line 38179: expected 18 fields, saw 20\\nSkipping line 38885: expected 18 fields, saw 21\\nSkipping line 39205: expected 18 fields, saw 20\\nSkipping line 39613: expected 18 fields, saw 19\\nSkipping line 39714: expected 18 fields, saw 25\\nSkipping line 40801: expected 18 fields, saw 20\\nSkipping line 41887: expected 18 fields, saw 28\\nSkipping line 42401: expected 18 fields, saw 19\\nSkipping line 42723: expected 18 fields, saw 22\\nSkipping line 43654: expected 18 fields, saw 19\\nSkipping line 43714: expected 18 fields, saw 19\\nSkipping line 44624: expected 18 fields, saw 28\\nSkipping line 45468: expected 18 fields, saw 19\\nSkipping line 45533: expected 18 fields, saw 19\\nSkipping line 46015: expected 18 fields, saw 24\\nSkipping line 46769: expected 18 fields, saw 20\\nSkipping line 46965: expected 18 fields, saw 21\\nSkipping line 48350: expected 18 fields, saw 23\\nSkipping line 49503: expected 18 fields, saw 20\\nSkipping line 49643: expected 18 fields, saw 19\\nSkipping line 50113: expected 18 fields, saw 19\\nSkipping line 51851: expected 18 fields, saw 19\\nSkipping line 53013: expected 18 fields, saw 22\\nSkipping line 56012: expected 18 fields, saw 25\\nSkipping line 56597: expected 18 fields, saw 22\\nSkipping line 57118: expected 18 fields, saw 21\\nSkipping line 57673: expected 18 fields, saw 19\\nSkipping line 57718: expected 18 fields, saw 23\\nSkipping line 59877: expected 18 fields, saw 20\\nSkipping line 60084: expected 18 fields, saw 19\\nSkipping line 61668: expected 18 fields, saw 22\\nSkipping line 62231: expected 18 fields, saw 20\\nSkipping line 62581: expected 18 fields, saw 23\\nSkipping line 63395: expected 18 fields, saw 19\\nSkipping line 65217: expected 18 fields, saw 20\\nSkipping line 65453: expected 18 fields, saw 22\\nSkipping line 65549: expected 18 fields, saw 20\\n'\n",
      "b'Skipping line 65703: expected 18 fields, saw 22\\nSkipping line 66263: expected 18 fields, saw 23\\nSkipping line 66863: expected 18 fields, saw 20\\nSkipping line 66867: expected 18 fields, saw 22\\n'\n"
     ]
    }
   ],
   "source": [
    "df = pd.read_csv('P3_GrantExport.csv', sep=';', error_bad_lines=False)"
   ]
  },
  {
   "cell_type": "code",
   "execution_count": 8,
   "metadata": {},
   "outputs": [
    {
     "name": "stdout",
     "output_type": "stream",
     "text": [
      "<class 'pandas.core.frame.DataFrame'>\n",
      "RangeIndex: 67162 entries, 0 to 67161\n",
      "Data columns (total 18 columns):\n",
      "Project Number                  67162 non-null int64\n",
      "Project Number String           67162 non-null object\n",
      "Project Title                   67161 non-null object\n",
      "Project Title English           26872 non-null object\n",
      "Responsible Applicant           67162 non-null object\n",
      "Funding Instrument              67162 non-null object\n",
      "Funding Instrument Hierarchy    65362 non-null object\n",
      "Institution                     61766 non-null object\n",
      "Institution Country             61701 non-null object\n",
      "University                      66893 non-null object\n",
      "Discipline Number               67162 non-null int64\n",
      "Discipline Name                 67162 non-null object\n",
      "Discipline Name Hierarchy       66671 non-null object\n",
      "All disciplines                 67161 non-null object\n",
      "Start Date                      67160 non-null object\n",
      "End Date                        67160 non-null object\n",
      "Approved Amount                 67162 non-null object\n",
      "Keywords                        42110 non-null object\n",
      "dtypes: int64(2), object(16)\n",
      "memory usage: 9.2+ MB\n"
     ]
    }
   ],
   "source": [
    "df.info() #Aufgabe 2"
   ]
  },
  {
   "cell_type": "code",
   "execution_count": 9,
   "metadata": {},
   "outputs": [
    {
     "data": {
      "text/plain": [
       "0          11619.00\n",
       "1          41022.00\n",
       "2          79732.00\n",
       "3          52627.00\n",
       "4         120042.00\n",
       "5          53009.00\n",
       "6          25403.00\n",
       "7          47100.00\n",
       "8          25814.00\n",
       "9         360000.00\n",
       "10        153886.00\n",
       "11        862200.00\n",
       "12        116991.00\n",
       "13        112664.00\n",
       "14          5000.00\n",
       "15        204018.00\n",
       "16        149485.00\n",
       "17         83983.00\n",
       "18         38152.00\n",
       "19         14138.00\n",
       "20        164602.00\n",
       "21        147795.00\n",
       "22         24552.00\n",
       "23         44802.00\n",
       "24         56000.00\n",
       "25        152535.00\n",
       "26        225000.00\n",
       "27        179124.00\n",
       "28         20000.00\n",
       "29        445198.00\n",
       "            ...    \n",
       "67132       4500.00\n",
       "67133       8900.00\n",
       "67134      21500.00\n",
       "67135      12150.00\n",
       "67136       7300.00\n",
       "67137       5050.00\n",
       "67138      10000.00\n",
       "67139       4400.00\n",
       "67140      12000.00\n",
       "67141     180000.00\n",
       "67142     180000.00\n",
       "67143       8432.00\n",
       "67144       5600.00\n",
       "67145       8900.00\n",
       "67146     180000.00\n",
       "67147     180000.00\n",
       "67148      13130.00\n",
       "67149      10080.00\n",
       "67150       3000.00\n",
       "67151       9960.00\n",
       "67152       2725.00\n",
       "67153       4500.00\n",
       "67154      11050.00\n",
       "67155      15700.00\n",
       "67156     180000.00\n",
       "67157     180000.00\n",
       "67158      25000.00\n",
       "67159    1544165.00\n",
       "67160       3360.00\n",
       "67161       7575.00\n",
       "Name: Approved Amount, Length: 67162, dtype: object"
      ]
     },
     "execution_count": 9,
     "metadata": {},
     "output_type": "execute_result"
    }
   ],
   "source": [
    "df[\"Approved Amount\"]"
   ]
  },
  {
   "cell_type": "code",
   "execution_count": 16,
   "metadata": {
    "collapsed": true
   },
   "outputs": [],
   "source": [
    "def comma(elem):\n",
    "    try:\n",
    "        elem = elem.split('.')[1]\n",
    "        return int(elem)\n",
    "    except:\n",
    "        return elem"
   ]
  },
  {
   "cell_type": "code",
   "execution_count": 17,
   "metadata": {
    "collapsed": true
   },
   "outputs": [],
   "source": [
    "df[\"Approved Amount\"] = df[\"Approved Amount\"].apply(comma)"
   ]
  },
  {
   "cell_type": "code",
   "execution_count": 18,
   "metadata": {},
   "outputs": [
    {
     "data": {
      "text/plain": [
       "0          11619\n",
       "1          41022\n",
       "2          79732\n",
       "3          52627\n",
       "4         120042\n",
       "5          53009\n",
       "6          25403\n",
       "7          47100\n",
       "8          25814\n",
       "9         360000\n",
       "10        153886\n",
       "11        862200\n",
       "12        116991\n",
       "13        112664\n",
       "14          5000\n",
       "15        204018\n",
       "16        149485\n",
       "17         83983\n",
       "18         38152\n",
       "19         14138\n",
       "20        164602\n",
       "21        147795\n",
       "22         24552\n",
       "23         44802\n",
       "24         56000\n",
       "25        152535\n",
       "26        225000\n",
       "27        179124\n",
       "28         20000\n",
       "29        445198\n",
       "          ...   \n",
       "67132       4500\n",
       "67133       8900\n",
       "67134      21500\n",
       "67135      12150\n",
       "67136       7300\n",
       "67137       5050\n",
       "67138      10000\n",
       "67139       4400\n",
       "67140      12000\n",
       "67141     180000\n",
       "67142     180000\n",
       "67143       8432\n",
       "67144       5600\n",
       "67145       8900\n",
       "67146     180000\n",
       "67147     180000\n",
       "67148      13130\n",
       "67149      10080\n",
       "67150       3000\n",
       "67151       9960\n",
       "67152       2725\n",
       "67153       4500\n",
       "67154      11050\n",
       "67155      15700\n",
       "67156     180000\n",
       "67157     180000\n",
       "67158      25000\n",
       "67159    1544165\n",
       "67160       3360\n",
       "67161       7575\n",
       "Name: Approved Amount, Length: 67162, dtype: object"
      ]
     },
     "execution_count": 18,
     "metadata": {},
     "output_type": "execute_result"
    }
   ],
   "source": [
    "df[\"Approved Amount\"]"
   ]
  },
  {
   "cell_type": "code",
   "execution_count": 19,
   "metadata": {},
   "outputs": [
    {
     "ename": "ValueError",
     "evalue": "invalid literal for int() with base 10: 'data not included in P3'",
     "output_type": "error",
     "traceback": [
      "\u001b[0;31m---------------------------------------------------------------------------\u001b[0m",
      "\u001b[0;31mValueError\u001b[0m                                Traceback (most recent call last)",
      "\u001b[0;32m<ipython-input-19-46d97dc39a4f>\u001b[0m in \u001b[0;36m<module>\u001b[0;34m()\u001b[0m\n\u001b[0;32m----> 1\u001b[0;31m \u001b[0mdf\u001b[0m\u001b[0;34m[\u001b[0m\u001b[0;34m\"Approved Amount\"\u001b[0m\u001b[0;34m]\u001b[0m\u001b[0;34m.\u001b[0m\u001b[0mastype\u001b[0m\u001b[0;34m(\u001b[0m\u001b[0mint\u001b[0m\u001b[0;34m)\u001b[0m\u001b[0;34m\u001b[0m\u001b[0m\n\u001b[0m",
      "\u001b[0;32m~/.virtualenvs/investigativ/lib/python3.6/site-packages/pandas/util/_decorators.py\u001b[0m in \u001b[0;36mwrapper\u001b[0;34m(*args, **kwargs)\u001b[0m\n\u001b[1;32m     89\u001b[0m                 \u001b[0;32melse\u001b[0m\u001b[0;34m:\u001b[0m\u001b[0;34m\u001b[0m\u001b[0m\n\u001b[1;32m     90\u001b[0m                     \u001b[0mkwargs\u001b[0m\u001b[0;34m[\u001b[0m\u001b[0mnew_arg_name\u001b[0m\u001b[0;34m]\u001b[0m \u001b[0;34m=\u001b[0m \u001b[0mnew_arg_value\u001b[0m\u001b[0;34m\u001b[0m\u001b[0m\n\u001b[0;32m---> 91\u001b[0;31m             \u001b[0;32mreturn\u001b[0m \u001b[0mfunc\u001b[0m\u001b[0;34m(\u001b[0m\u001b[0;34m*\u001b[0m\u001b[0margs\u001b[0m\u001b[0;34m,\u001b[0m \u001b[0;34m**\u001b[0m\u001b[0mkwargs\u001b[0m\u001b[0;34m)\u001b[0m\u001b[0;34m\u001b[0m\u001b[0m\n\u001b[0m\u001b[1;32m     92\u001b[0m         \u001b[0;32mreturn\u001b[0m \u001b[0mwrapper\u001b[0m\u001b[0;34m\u001b[0m\u001b[0m\n\u001b[1;32m     93\u001b[0m     \u001b[0;32mreturn\u001b[0m \u001b[0m_deprecate_kwarg\u001b[0m\u001b[0;34m\u001b[0m\u001b[0m\n",
      "\u001b[0;32m~/.virtualenvs/investigativ/lib/python3.6/site-packages/pandas/core/generic.py\u001b[0m in \u001b[0;36mastype\u001b[0;34m(self, dtype, copy, errors, **kwargs)\u001b[0m\n\u001b[1;32m   3408\u001b[0m         \u001b[0;31m# else, only a single dtype is given\u001b[0m\u001b[0;34m\u001b[0m\u001b[0;34m\u001b[0m\u001b[0m\n\u001b[1;32m   3409\u001b[0m         new_data = self._data.astype(dtype=dtype, copy=copy, errors=errors,\n\u001b[0;32m-> 3410\u001b[0;31m                                      **kwargs)\n\u001b[0m\u001b[1;32m   3411\u001b[0m         \u001b[0;32mreturn\u001b[0m \u001b[0mself\u001b[0m\u001b[0;34m.\u001b[0m\u001b[0m_constructor\u001b[0m\u001b[0;34m(\u001b[0m\u001b[0mnew_data\u001b[0m\u001b[0;34m)\u001b[0m\u001b[0;34m.\u001b[0m\u001b[0m__finalize__\u001b[0m\u001b[0;34m(\u001b[0m\u001b[0mself\u001b[0m\u001b[0;34m)\u001b[0m\u001b[0;34m\u001b[0m\u001b[0m\n\u001b[1;32m   3412\u001b[0m \u001b[0;34m\u001b[0m\u001b[0m\n",
      "\u001b[0;32m~/.virtualenvs/investigativ/lib/python3.6/site-packages/pandas/core/internals.py\u001b[0m in \u001b[0;36mastype\u001b[0;34m(self, dtype, **kwargs)\u001b[0m\n\u001b[1;32m   3222\u001b[0m \u001b[0;34m\u001b[0m\u001b[0m\n\u001b[1;32m   3223\u001b[0m     \u001b[0;32mdef\u001b[0m \u001b[0mastype\u001b[0m\u001b[0;34m(\u001b[0m\u001b[0mself\u001b[0m\u001b[0;34m,\u001b[0m \u001b[0mdtype\u001b[0m\u001b[0;34m,\u001b[0m \u001b[0;34m**\u001b[0m\u001b[0mkwargs\u001b[0m\u001b[0;34m)\u001b[0m\u001b[0;34m:\u001b[0m\u001b[0;34m\u001b[0m\u001b[0m\n\u001b[0;32m-> 3224\u001b[0;31m         \u001b[0;32mreturn\u001b[0m \u001b[0mself\u001b[0m\u001b[0;34m.\u001b[0m\u001b[0mapply\u001b[0m\u001b[0;34m(\u001b[0m\u001b[0;34m'astype'\u001b[0m\u001b[0;34m,\u001b[0m \u001b[0mdtype\u001b[0m\u001b[0;34m=\u001b[0m\u001b[0mdtype\u001b[0m\u001b[0;34m,\u001b[0m \u001b[0;34m**\u001b[0m\u001b[0mkwargs\u001b[0m\u001b[0;34m)\u001b[0m\u001b[0;34m\u001b[0m\u001b[0m\n\u001b[0m\u001b[1;32m   3225\u001b[0m \u001b[0;34m\u001b[0m\u001b[0m\n\u001b[1;32m   3226\u001b[0m     \u001b[0;32mdef\u001b[0m \u001b[0mconvert\u001b[0m\u001b[0;34m(\u001b[0m\u001b[0mself\u001b[0m\u001b[0;34m,\u001b[0m \u001b[0;34m**\u001b[0m\u001b[0mkwargs\u001b[0m\u001b[0;34m)\u001b[0m\u001b[0;34m:\u001b[0m\u001b[0;34m\u001b[0m\u001b[0m\n",
      "\u001b[0;32m~/.virtualenvs/investigativ/lib/python3.6/site-packages/pandas/core/internals.py\u001b[0m in \u001b[0;36mapply\u001b[0;34m(self, f, axes, filter, do_integrity_check, consolidate, **kwargs)\u001b[0m\n\u001b[1;32m   3089\u001b[0m \u001b[0;34m\u001b[0m\u001b[0m\n\u001b[1;32m   3090\u001b[0m             \u001b[0mkwargs\u001b[0m\u001b[0;34m[\u001b[0m\u001b[0;34m'mgr'\u001b[0m\u001b[0;34m]\u001b[0m \u001b[0;34m=\u001b[0m \u001b[0mself\u001b[0m\u001b[0;34m\u001b[0m\u001b[0m\n\u001b[0;32m-> 3091\u001b[0;31m             \u001b[0mapplied\u001b[0m \u001b[0;34m=\u001b[0m \u001b[0mgetattr\u001b[0m\u001b[0;34m(\u001b[0m\u001b[0mb\u001b[0m\u001b[0;34m,\u001b[0m \u001b[0mf\u001b[0m\u001b[0;34m)\u001b[0m\u001b[0;34m(\u001b[0m\u001b[0;34m**\u001b[0m\u001b[0mkwargs\u001b[0m\u001b[0;34m)\u001b[0m\u001b[0;34m\u001b[0m\u001b[0m\n\u001b[0m\u001b[1;32m   3092\u001b[0m             \u001b[0mresult_blocks\u001b[0m \u001b[0;34m=\u001b[0m \u001b[0m_extend_blocks\u001b[0m\u001b[0;34m(\u001b[0m\u001b[0mapplied\u001b[0m\u001b[0;34m,\u001b[0m \u001b[0mresult_blocks\u001b[0m\u001b[0;34m)\u001b[0m\u001b[0;34m\u001b[0m\u001b[0m\n\u001b[1;32m   3093\u001b[0m \u001b[0;34m\u001b[0m\u001b[0m\n",
      "\u001b[0;32m~/.virtualenvs/investigativ/lib/python3.6/site-packages/pandas/core/internals.py\u001b[0m in \u001b[0;36mastype\u001b[0;34m(self, dtype, copy, errors, values, **kwargs)\u001b[0m\n\u001b[1;32m    469\u001b[0m     \u001b[0;32mdef\u001b[0m \u001b[0mastype\u001b[0m\u001b[0;34m(\u001b[0m\u001b[0mself\u001b[0m\u001b[0;34m,\u001b[0m \u001b[0mdtype\u001b[0m\u001b[0;34m,\u001b[0m \u001b[0mcopy\u001b[0m\u001b[0;34m=\u001b[0m\u001b[0;32mFalse\u001b[0m\u001b[0;34m,\u001b[0m \u001b[0merrors\u001b[0m\u001b[0;34m=\u001b[0m\u001b[0;34m'raise'\u001b[0m\u001b[0;34m,\u001b[0m \u001b[0mvalues\u001b[0m\u001b[0;34m=\u001b[0m\u001b[0;32mNone\u001b[0m\u001b[0;34m,\u001b[0m \u001b[0;34m**\u001b[0m\u001b[0mkwargs\u001b[0m\u001b[0;34m)\u001b[0m\u001b[0;34m:\u001b[0m\u001b[0;34m\u001b[0m\u001b[0m\n\u001b[1;32m    470\u001b[0m         return self._astype(dtype, copy=copy, errors=errors, values=values,\n\u001b[0;32m--> 471\u001b[0;31m                             **kwargs)\n\u001b[0m\u001b[1;32m    472\u001b[0m \u001b[0;34m\u001b[0m\u001b[0m\n\u001b[1;32m    473\u001b[0m     def _astype(self, dtype, copy=False, errors='raise', values=None,\n",
      "\u001b[0;32m~/.virtualenvs/investigativ/lib/python3.6/site-packages/pandas/core/internals.py\u001b[0m in \u001b[0;36m_astype\u001b[0;34m(self, dtype, copy, errors, values, klass, mgr, raise_on_error, **kwargs)\u001b[0m\n\u001b[1;32m    519\u001b[0m \u001b[0;34m\u001b[0m\u001b[0m\n\u001b[1;32m    520\u001b[0m                 \u001b[0;31m# _astype_nansafe works fine with 1-d only\u001b[0m\u001b[0;34m\u001b[0m\u001b[0;34m\u001b[0m\u001b[0m\n\u001b[0;32m--> 521\u001b[0;31m                 \u001b[0mvalues\u001b[0m \u001b[0;34m=\u001b[0m \u001b[0mastype_nansafe\u001b[0m\u001b[0;34m(\u001b[0m\u001b[0mvalues\u001b[0m\u001b[0;34m.\u001b[0m\u001b[0mravel\u001b[0m\u001b[0;34m(\u001b[0m\u001b[0;34m)\u001b[0m\u001b[0;34m,\u001b[0m \u001b[0mdtype\u001b[0m\u001b[0;34m,\u001b[0m \u001b[0mcopy\u001b[0m\u001b[0;34m=\u001b[0m\u001b[0;32mTrue\u001b[0m\u001b[0;34m)\u001b[0m\u001b[0;34m\u001b[0m\u001b[0m\n\u001b[0m\u001b[1;32m    522\u001b[0m                 \u001b[0mvalues\u001b[0m \u001b[0;34m=\u001b[0m \u001b[0mvalues\u001b[0m\u001b[0;34m.\u001b[0m\u001b[0mreshape\u001b[0m\u001b[0;34m(\u001b[0m\u001b[0mself\u001b[0m\u001b[0;34m.\u001b[0m\u001b[0mshape\u001b[0m\u001b[0;34m)\u001b[0m\u001b[0;34m\u001b[0m\u001b[0m\n\u001b[1;32m    523\u001b[0m \u001b[0;34m\u001b[0m\u001b[0m\n",
      "\u001b[0;32m~/.virtualenvs/investigativ/lib/python3.6/site-packages/pandas/core/dtypes/cast.py\u001b[0m in \u001b[0;36mastype_nansafe\u001b[0;34m(arr, dtype, copy)\u001b[0m\n\u001b[1;32m    623\u001b[0m     \u001b[0;32melif\u001b[0m \u001b[0marr\u001b[0m\u001b[0;34m.\u001b[0m\u001b[0mdtype\u001b[0m \u001b[0;34m==\u001b[0m \u001b[0mnp\u001b[0m\u001b[0;34m.\u001b[0m\u001b[0mobject_\u001b[0m \u001b[0;32mand\u001b[0m \u001b[0mnp\u001b[0m\u001b[0;34m.\u001b[0m\u001b[0missubdtype\u001b[0m\u001b[0;34m(\u001b[0m\u001b[0mdtype\u001b[0m\u001b[0;34m.\u001b[0m\u001b[0mtype\u001b[0m\u001b[0;34m,\u001b[0m \u001b[0mnp\u001b[0m\u001b[0;34m.\u001b[0m\u001b[0minteger\u001b[0m\u001b[0;34m)\u001b[0m\u001b[0;34m:\u001b[0m\u001b[0;34m\u001b[0m\u001b[0m\n\u001b[1;32m    624\u001b[0m         \u001b[0;31m# work around NumPy brokenness, #1987\u001b[0m\u001b[0;34m\u001b[0m\u001b[0;34m\u001b[0m\u001b[0m\n\u001b[0;32m--> 625\u001b[0;31m         \u001b[0;32mreturn\u001b[0m \u001b[0mlib\u001b[0m\u001b[0;34m.\u001b[0m\u001b[0mastype_intsafe\u001b[0m\u001b[0;34m(\u001b[0m\u001b[0marr\u001b[0m\u001b[0;34m.\u001b[0m\u001b[0mravel\u001b[0m\u001b[0;34m(\u001b[0m\u001b[0;34m)\u001b[0m\u001b[0;34m,\u001b[0m \u001b[0mdtype\u001b[0m\u001b[0;34m)\u001b[0m\u001b[0;34m.\u001b[0m\u001b[0mreshape\u001b[0m\u001b[0;34m(\u001b[0m\u001b[0marr\u001b[0m\u001b[0;34m.\u001b[0m\u001b[0mshape\u001b[0m\u001b[0;34m)\u001b[0m\u001b[0;34m\u001b[0m\u001b[0m\n\u001b[0m\u001b[1;32m    626\u001b[0m \u001b[0;34m\u001b[0m\u001b[0m\n\u001b[1;32m    627\u001b[0m     \u001b[0;32mif\u001b[0m \u001b[0mdtype\u001b[0m\u001b[0;34m.\u001b[0m\u001b[0mname\u001b[0m \u001b[0;32min\u001b[0m \u001b[0;34m(\u001b[0m\u001b[0;34m\"datetime64\"\u001b[0m\u001b[0;34m,\u001b[0m \u001b[0;34m\"timedelta64\"\u001b[0m\u001b[0;34m)\u001b[0m\u001b[0;34m:\u001b[0m\u001b[0;34m\u001b[0m\u001b[0m\n",
      "\u001b[0;32mpandas/_libs/lib.pyx\u001b[0m in \u001b[0;36mpandas._libs.lib.astype_intsafe (pandas/_libs/lib.c:16264)\u001b[0;34m()\u001b[0m\n",
      "\u001b[0;32mpandas/_libs/src/util.pxd\u001b[0m in \u001b[0;36mutil.set_value_at_unsafe (pandas/_libs/lib.c:73298)\u001b[0;34m()\u001b[0m\n",
      "\u001b[0;31mValueError\u001b[0m: invalid literal for int() with base 10: 'data not included in P3'"
     ]
    }
   ],
   "source": [
    "df[\"Approved Amount\"].astype(int)"
   ]
  },
  {
   "cell_type": "code",
   "execution_count": 24,
   "metadata": {
    "collapsed": true
   },
   "outputs": [],
   "source": [
    "def invalid(elem):\n",
    "    try:\n",
    "        elem\n",
    "        return int(elem)\n",
    "    except ValueError:\n",
    "        del elem"
   ]
  },
  {
   "cell_type": "code",
   "execution_count": 41,
   "metadata": {},
   "outputs": [
    {
     "data": {
      "text/plain": [
       "0          11619.0\n",
       "1          41022.0\n",
       "2          79732.0\n",
       "3          52627.0\n",
       "4         120042.0\n",
       "5          53009.0\n",
       "6          25403.0\n",
       "7          47100.0\n",
       "8          25814.0\n",
       "9         360000.0\n",
       "10        153886.0\n",
       "11        862200.0\n",
       "12        116991.0\n",
       "13        112664.0\n",
       "14          5000.0\n",
       "15        204018.0\n",
       "16        149485.0\n",
       "17         83983.0\n",
       "18         38152.0\n",
       "19         14138.0\n",
       "20        164602.0\n",
       "21        147795.0\n",
       "22         24552.0\n",
       "23         44802.0\n",
       "24         56000.0\n",
       "25        152535.0\n",
       "26        225000.0\n",
       "27        179124.0\n",
       "28         20000.0\n",
       "29        445198.0\n",
       "           ...    \n",
       "67132       4500.0\n",
       "67133       8900.0\n",
       "67134      21500.0\n",
       "67135      12150.0\n",
       "67136       7300.0\n",
       "67137       5050.0\n",
       "67138      10000.0\n",
       "67139       4400.0\n",
       "67140      12000.0\n",
       "67141     180000.0\n",
       "67142     180000.0\n",
       "67143       8432.0\n",
       "67144       5600.0\n",
       "67145       8900.0\n",
       "67146     180000.0\n",
       "67147     180000.0\n",
       "67148      13130.0\n",
       "67149      10080.0\n",
       "67150       3000.0\n",
       "67151       9960.0\n",
       "67152       2725.0\n",
       "67153       4500.0\n",
       "67154      11050.0\n",
       "67155      15700.0\n",
       "67156     180000.0\n",
       "67157     180000.0\n",
       "67158      25000.0\n",
       "67159    1544165.0\n",
       "67160       3360.0\n",
       "67161       7575.0\n",
       "Name: Approved Amount, Length: 67162, dtype: float64"
      ]
     },
     "execution_count": 41,
     "metadata": {},
     "output_type": "execute_result"
    }
   ],
   "source": [
    "df[\"Approved Amount\"].apply(invalid)"
   ]
  },
  {
   "cell_type": "code",
   "execution_count": 26,
   "metadata": {
    "collapsed": true
   },
   "outputs": [],
   "source": [
    "df[\"Approved Amount\"] = df[\"Approved Amount\"].apply(invalid)"
   ]
  },
  {
   "cell_type": "code",
   "execution_count": 33,
   "metadata": {},
   "outputs": [
    {
     "data": {
      "text/plain": [
       "14719.815766"
      ]
     },
     "execution_count": 33,
     "metadata": {},
     "output_type": "execute_result"
    }
   ],
   "source": [
    "df[\"Approved Amount\"].sum()/1000000 #Aufgabe 4"
   ]
  },
  {
   "cell_type": "code",
   "execution_count": 56,
   "metadata": {},
   "outputs": [
    {
     "name": "stdout",
     "output_type": "stream",
     "text": [
      "<class 'pandas.core.frame.DataFrame'>\n",
      "RangeIndex: 67162 entries, 0 to 67161\n",
      "Data columns (total 19 columns):\n",
      "Project Number                  67162 non-null int64\n",
      "Project Number String           67162 non-null object\n",
      "Project Title                   67161 non-null object\n",
      "Project Title English           26872 non-null object\n",
      "Responsible Applicant           67162 non-null object\n",
      "Funding Instrument              67162 non-null object\n",
      "Funding Instrument Hierarchy    65362 non-null object\n",
      "Institution                     61766 non-null object\n",
      "Institution Country             61701 non-null object\n",
      "University                      66893 non-null object\n",
      "Discipline Number               67162 non-null int64\n",
      "Discipline Name                 67162 non-null object\n",
      "Discipline Name Hierarchy       66671 non-null object\n",
      "All disciplines                 67161 non-null object\n",
      "Start Date                      67160 non-null object\n",
      "End Date                        67160 non-null object\n",
      "Approved Amount                 55637 non-null float64\n",
      "Keywords                        42110 non-null object\n",
      "Approved Amount Total           67162 non-null float64\n",
      "dtypes: float64(2), int64(2), object(15)\n",
      "memory usage: 9.7+ MB\n"
     ]
    }
   ],
   "source": [
    "df.info()"
   ]
  },
  {
   "cell_type": "code",
   "execution_count": 55,
   "metadata": {},
   "outputs": [
    {
     "data": {
      "text/plain": [
       "University\n",
       "University of Geneva – GE                                                                         2.090010e+09\n",
       "University of Zurich – ZH                                                                         2.089479e+09\n",
       "ETH Zurich – ETHZ                                                                                 1.865874e+09\n",
       "University of Berne – BE                                                                          1.741320e+09\n",
       "University of Basel – BS                                                                          1.512640e+09\n",
       "EPF Lausanne – EPFL                                                                               1.381486e+09\n",
       "University of Lausanne – LA                                                                       1.294302e+09\n",
       "University of Fribourg – FR                                                                       5.031677e+08\n",
       "University of Neuchatel – NE                                                                      4.238921e+08\n",
       "Non-profit organisations (libraries, museums, academies, foundations) and administration – NPO    3.408352e+08\n",
       "Name: Approved Amount, dtype: float64"
      ]
     },
     "execution_count": 55,
     "metadata": {},
     "output_type": "execute_result"
    }
   ],
   "source": [
    "df.groupby('University')[\"Approved Amount\"].sum().sort_values(ascending=False).head(10) #Aufgabe 5"
   ]
  },
  {
   "cell_type": "code",
   "execution_count": 62,
   "metadata": {},
   "outputs": [
    {
     "data": {
      "text/plain": [
       "Kneubühl Fritz             47\n",
       "Güntherodt Hans-Joachim    47\n",
       "Pestalozzi Karl            46\n",
       "Günter Peter               41\n",
       "Stocker Thomas             39\n",
       "Kraft Hanspeter            38\n",
       "Vuilleumier Jean-Luc       36\n",
       "Weber Heinz-P.             35\n",
       "Renaud Philippe            35\n",
       "Chergui Majed              35\n",
       "Name: Responsible Applicant, dtype: int64"
      ]
     },
     "execution_count": 62,
     "metadata": {},
     "output_type": "execute_result"
    }
   ],
   "source": [
    "df['Responsible Applicant'].value_counts().head(10) #Aufgabe 3"
   ]
  },
  {
   "cell_type": "code",
   "execution_count": null,
   "metadata": {
    "collapsed": true
   },
   "outputs": [],
   "source": []
  }
 ],
 "metadata": {
  "kernelspec": {
   "display_name": "Python 3",
   "language": "python",
   "name": "python3"
  },
  "language_info": {
   "codemirror_mode": {
    "name": "ipython",
    "version": 3
   },
   "file_extension": ".py",
   "mimetype": "text/x-python",
   "name": "python",
   "nbconvert_exporter": "python",
   "pygments_lexer": "ipython3",
   "version": "3.5.1"
  }
 },
 "nbformat": 4,
 "nbformat_minor": 2
}
