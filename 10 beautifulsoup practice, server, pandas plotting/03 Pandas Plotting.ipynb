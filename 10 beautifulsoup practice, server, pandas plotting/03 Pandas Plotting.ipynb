{
 "cells": [
  {
   "cell_type": "code",
   "execution_count": 1,
   "metadata": {
    "collapsed": true
   },
   "outputs": [],
   "source": [
    "import pandas as pd"
   ]
  },
  {
   "cell_type": "code",
   "execution_count": 5,
   "metadata": {},
   "outputs": [],
   "source": [
    "df = pd.read_csv('daphne.csv', sep='\\t', encoding='utf-16')"
   ]
  },
  {
   "cell_type": "markdown",
   "metadata": {},
   "source": [
    "# Lets plot Daphne's activity over time"
   ]
  },
  {
   "cell_type": "markdown",
   "metadata": {},
   "source": [
    "So first we need to import matplotlib"
   ]
  },
  {
   "cell_type": "code",
   "execution_count": 52,
   "metadata": {
    "collapsed": true
   },
   "outputs": [],
   "source": [
    "import matplotlib.pyplot as plt\n",
    "import matplotlib\n",
    "plt.style.use('fivethirtyeight')\n",
    "%matplotlib inline"
   ]
  },
  {
   "cell_type": "markdown",
   "metadata": {},
   "source": [
    "Let's look at the data file first"
   ]
  },
  {
   "cell_type": "code",
   "execution_count": 7,
   "metadata": {},
   "outputs": [
    {
     "name": "stdout",
     "output_type": "stream",
     "text": [
      "<class 'pandas.core.frame.DataFrame'>\n",
      "RangeIndex: 134 entries, 0 to 133\n",
      "Data columns (total 9 columns):\n",
      "Unnamed: 0    134 non-null int64\n",
      "Date_1        134 non-null int64\n",
      "Date_2        134 non-null int64\n",
      "Date_3        134 non-null object\n",
      "ID_page       134 non-null int64\n",
      "ID_post       134 non-null int64\n",
      "Link          134 non-null object\n",
      "Title         134 non-null object\n",
      "Txt           120 non-null object\n",
      "dtypes: int64(5), object(4)\n",
      "memory usage: 9.5+ KB\n"
     ]
    }
   ],
   "source": [
    "df.info()"
   ]
  },
  {
   "cell_type": "code",
   "execution_count": 8,
   "metadata": {},
   "outputs": [
    {
     "data": {
      "text/html": [
       "<div>\n",
       "<style>\n",
       "    .dataframe thead tr:only-child th {\n",
       "        text-align: right;\n",
       "    }\n",
       "\n",
       "    .dataframe thead th {\n",
       "        text-align: left;\n",
       "    }\n",
       "\n",
       "    .dataframe tbody tr th {\n",
       "        vertical-align: top;\n",
       "    }\n",
       "</style>\n",
       "<table border=\"1\" class=\"dataframe\">\n",
       "  <thead>\n",
       "    <tr style=\"text-align: right;\">\n",
       "      <th></th>\n",
       "      <th>Unnamed: 0</th>\n",
       "      <th>Date_1</th>\n",
       "      <th>Date_2</th>\n",
       "      <th>Date_3</th>\n",
       "      <th>ID_page</th>\n",
       "      <th>ID_post</th>\n",
       "      <th>Link</th>\n",
       "      <th>Title</th>\n",
       "      <th>Txt</th>\n",
       "    </tr>\n",
       "  </thead>\n",
       "  <tbody>\n",
       "    <tr>\n",
       "      <th>0</th>\n",
       "      <td>0</td>\n",
       "      <td>2017</td>\n",
       "      <td>10</td>\n",
       "      <td>Monday, 16 October 2:09 pm</td>\n",
       "      <td>1</td>\n",
       "      <td>97964</td>\n",
       "      <td>https://daphnecaruanagalizia.com/2017/10/first...</td>\n",
       "      <td>First things first: do something about that ho...</td>\n",
       "      <td>You can wear the flashiest watch and keep your...</td>\n",
       "    </tr>\n",
       "    <tr>\n",
       "      <th>1</th>\n",
       "      <td>1</td>\n",
       "      <td>2017</td>\n",
       "      <td>10</td>\n",
       "      <td>Sunday, 15 October 10:07 pm</td>\n",
       "      <td>1</td>\n",
       "      <td>97961</td>\n",
       "      <td>https://daphnecaruanagalizia.com/2017/10/austr...</td>\n",
       "      <td>Austria’s new chancellor is 31 – and will have...</td>\n",
       "      <td>Exit polls show that Sebastian Kurz, 31, is ab...</td>\n",
       "    </tr>\n",
       "    <tr>\n",
       "      <th>2</th>\n",
       "      <td>2</td>\n",
       "      <td>2017</td>\n",
       "      <td>10</td>\n",
       "      <td>Sunday, 15 October 7:26 pm</td>\n",
       "      <td>1</td>\n",
       "      <td>97958</td>\n",
       "      <td>https://daphnecaruanagalizia.com/2017/10/party...</td>\n",
       "      <td>The party leaders and Sunday morning</td>\n",
       "      <td>Is it going to be a five-year electoral campai...</td>\n",
       "    </tr>\n",
       "    <tr>\n",
       "      <th>3</th>\n",
       "      <td>3</td>\n",
       "      <td>2017</td>\n",
       "      <td>10</td>\n",
       "      <td>Saturday, 14 October 12:52 am</td>\n",
       "      <td>1</td>\n",
       "      <td>97955</td>\n",
       "      <td>https://daphnecaruanagalizia.com/2017/10/looks...</td>\n",
       "      <td>Looks like Delia is surrounding himself with l...</td>\n",
       "      <td>The disgraceful thing is that this man has bee...</td>\n",
       "    </tr>\n",
       "    <tr>\n",
       "      <th>4</th>\n",
       "      <td>4</td>\n",
       "      <td>2017</td>\n",
       "      <td>10</td>\n",
       "      <td>Saturday, 14 October 12:26 am</td>\n",
       "      <td>1</td>\n",
       "      <td>97952</td>\n",
       "      <td>https://daphnecaruanagalizia.com/2017/10/chris...</td>\n",
       "      <td>Chris Cardona: a one-track mind</td>\n",
       "      <td>“I don’t recall any other budget having given ...</td>\n",
       "    </tr>\n",
       "  </tbody>\n",
       "</table>\n",
       "</div>"
      ],
      "text/plain": [
       "   Unnamed: 0  Date_1  Date_2                         Date_3  ID_page  \\\n",
       "0           0    2017      10     Monday, 16 October 2:09 pm        1   \n",
       "1           1    2017      10    Sunday, 15 October 10:07 pm        1   \n",
       "2           2    2017      10     Sunday, 15 October 7:26 pm        1   \n",
       "3           3    2017      10  Saturday, 14 October 12:52 am        1   \n",
       "4           4    2017      10  Saturday, 14 October 12:26 am        1   \n",
       "\n",
       "   ID_post                                               Link  \\\n",
       "0    97964  https://daphnecaruanagalizia.com/2017/10/first...   \n",
       "1    97961  https://daphnecaruanagalizia.com/2017/10/austr...   \n",
       "2    97958  https://daphnecaruanagalizia.com/2017/10/party...   \n",
       "3    97955  https://daphnecaruanagalizia.com/2017/10/looks...   \n",
       "4    97952  https://daphnecaruanagalizia.com/2017/10/chris...   \n",
       "\n",
       "                                               Title  \\\n",
       "0  First things first: do something about that ho...   \n",
       "1  Austria’s new chancellor is 31 – and will have...   \n",
       "2               The party leaders and Sunday morning   \n",
       "3  Looks like Delia is surrounding himself with l...   \n",
       "4                    Chris Cardona: a one-track mind   \n",
       "\n",
       "                                                 Txt  \n",
       "0  You can wear the flashiest watch and keep your...  \n",
       "1  Exit polls show that Sebastian Kurz, 31, is ab...  \n",
       "2  Is it going to be a five-year electoral campai...  \n",
       "3  The disgraceful thing is that this man has bee...  \n",
       "4  “I don’t recall any other budget having given ...  "
      ]
     },
     "execution_count": 8,
     "metadata": {},
     "output_type": "execute_result"
    }
   ],
   "source": [
    "df.head()"
   ]
  },
  {
   "cell_type": "markdown",
   "metadata": {},
   "source": [
    "So lets turn Date_3 into an actual date, here are the [codes](http://strftime.org/)."
   ]
  },
  {
   "cell_type": "markdown",
   "metadata": {},
   "source": [
    "First, lets bring the year date in. We need to clean Date_1 first though"
   ]
  },
  {
   "cell_type": "code",
   "execution_count": 14,
   "metadata": {
    "collapsed": true
   },
   "outputs": [],
   "source": [
    "def clean(elem):\n",
    "    elem = str(elem).split('\\n')[0].strip()\n",
    "    return elem"
   ]
  },
  {
   "cell_type": "code",
   "execution_count": 16,
   "metadata": {
    "collapsed": true
   },
   "outputs": [],
   "source": [
    "df['Date_1'] = df['Date_1'].apply(clean)"
   ]
  },
  {
   "cell_type": "code",
   "execution_count": 18,
   "metadata": {},
   "outputs": [],
   "source": [
    "df['Date'] = df['Date_3'] + \" \" + df['Date_1']"
   ]
  },
  {
   "cell_type": "code",
   "execution_count": 39,
   "metadata": {},
   "outputs": [],
   "source": [
    "df['Final Date'] = pd.to_datetime(df['Date'], format='%A, %d %B %I:%S %p %Y')"
   ]
  },
  {
   "cell_type": "code",
   "execution_count": 40,
   "metadata": {},
   "outputs": [
    {
     "name": "stdout",
     "output_type": "stream",
     "text": [
      "<class 'pandas.core.frame.DataFrame'>\n",
      "DatetimeIndex: 134 entries, 2017-10-16 14:00:09 to 2017-09-15 10:00:53\n",
      "Data columns (total 11 columns):\n",
      "Unnamed: 0    134 non-null int64\n",
      "Date_1        134 non-null object\n",
      "Date_2        134 non-null int64\n",
      "Date_3        134 non-null object\n",
      "ID_page       134 non-null int64\n",
      "ID_post       134 non-null int64\n",
      "Link          134 non-null object\n",
      "Title         134 non-null object\n",
      "Txt           120 non-null object\n",
      "Date          134 non-null object\n",
      "Final Date    134 non-null datetime64[ns]\n",
      "dtypes: datetime64[ns](1), int64(4), object(6)\n",
      "memory usage: 12.6+ KB\n"
     ]
    }
   ],
   "source": [
    "df.info()"
   ]
  },
  {
   "cell_type": "code",
   "execution_count": 41,
   "metadata": {},
   "outputs": [],
   "source": [
    "df.index = df['Final Date'].value"
   ]
  },
  {
   "cell_type": "markdown",
   "metadata": {},
   "source": [
    "Let's just plot everything?"
   ]
  },
  {
   "cell_type": "code",
   "execution_count": 53,
   "metadata": {},
   "outputs": [
    {
     "data": {
      "text/plain": [
       "<matplotlib.axes._subplots.AxesSubplot at 0x10a2ee240>"
      ]
     },
     "execution_count": 53,
     "metadata": {},
     "output_type": "execute_result"
    },
    {
     "data": {
      "image/png": "[encoded data removed]",
      "text/plain": [
       "<matplotlib.figure.Figure at 0x10a2eb390>"
      ]
     },
     "metadata": {},
     "output_type": "display_data"
    }
   ],
   "source": [
    "df.resample('B')['ID_page'].count().plot()"
   ]
  },
  {
   "cell_type": "markdown",
   "metadata": {},
   "source": [
    "By week"
   ]
  },
  {
   "cell_type": "code",
   "execution_count": 69,
   "metadata": {},
   "outputs": [
    {
     "data": {
      "text/plain": [
       "Final Date\n",
       "37    24\n",
       "38    32\n",
       "39    29\n",
       "40    30\n",
       "41    18\n",
       "42     1\n",
       "Name: ID_page, dtype: int64"
      ]
     },
     "execution_count": 69,
     "metadata": {},
     "output_type": "execute_result"
    }
   ],
   "source": [
    "df.groupby(df['Final Date'].dt.week)['ID_page'].count()"
   ]
  },
  {
   "cell_type": "markdown",
   "metadata": {},
   "source": [
    "By hour of day"
   ]
  },
  {
   "cell_type": "code",
   "execution_count": 70,
   "metadata": {},
   "outputs": [
    {
     "data": {
      "text/plain": [
       "Final Date\n",
       "0     14\n",
       "1      9\n",
       "2     10\n",
       "3      3\n",
       "4      1\n",
       "9      1\n",
       "10     9\n",
       "11    11\n",
       "12    13\n",
       "13     3\n",
       "14     7\n",
       "15     1\n",
       "16     3\n",
       "17     3\n",
       "18     8\n",
       "19     8\n",
       "20     4\n",
       "21     9\n",
       "22     7\n",
       "23    10\n",
       "Name: ID_page, dtype: int64"
      ]
     },
     "execution_count": 70,
     "metadata": {},
     "output_type": "execute_result"
    }
   ],
   "source": [
    "df.groupby(df['Final Date'].dt.hour)['ID_page'].count()"
   ]
  },
  {
   "cell_type": "markdown",
   "metadata": {},
   "source": [
    "By week"
   ]
  },
  {
   "cell_type": "code",
   "execution_count": 72,
   "metadata": {},
   "outputs": [
    {
     "data": {
      "text/plain": [
       "Final Date\n",
       "0    17\n",
       "1    17\n",
       "2     6\n",
       "3    26\n",
       "4    26\n",
       "5    20\n",
       "6    22\n",
       "Name: ID_page, dtype: int64"
      ]
     },
     "execution_count": 72,
     "metadata": {},
     "output_type": "execute_result"
    }
   ],
   "source": [
    "df.groupby(df['Final Date'].dt.weekday)['ID_page'].count()"
   ]
  },
  {
   "cell_type": "code",
   "execution_count": null,
   "metadata": {
    "collapsed": true
   },
   "outputs": [],
   "source": []
  }
 ],
 "metadata": {
  "kernelspec": {
   "display_name": "Python 3",
   "language": "python",
   "name": "python3"
  },
  "language_info": {
   "codemirror_mode": {
    "name": "ipython",
    "version": 3
   },
   "file_extension": ".py",
   "mimetype": "text/x-python",
   "name": "python",
   "nbconvert_exporter": "python",
   "pygments_lexer": "ipython3",
   "version": "3.5.1"
  }
 },
 "nbformat": 4,
 "nbformat_minor": 2
}
