{
 "cells": [
  {
   "cell_type": "code",
   "execution_count": 1,
   "metadata": {
    "collapsed": true
   },
   "outputs": [],
   "source": [
    "from bs4 import BeautifulSoup\n",
    "import requests\n",
    "import pandas as pd\n",
    "import time\n",
    "import progressbar"
   ]
  },
  {
   "cell_type": "code",
   "execution_count": 2,
   "metadata": {
    "collapsed": true
   },
   "outputs": [],
   "source": [
    "# Let's get started: scrape main page\n",
    "url = \"https://daphnecaruanagalizia.com\"\n",
    "response = requests.get(url)\n",
    "daphne = BeautifulSoup(response.text, 'html.parser')"
   ]
  },
  {
   "cell_type": "code",
   "execution_count": 3,
   "metadata": {
    "collapsed": true
   },
   "outputs": [],
   "source": [
    "# Get structural information based on developer tools in Google Chrome\n",
    "posts = daphne.find_all(\"div\", class_=\"postmaster\")"
   ]
  },
  {
   "cell_type": "code",
   "execution_count": 4,
   "metadata": {},
   "outputs": [
    {
     "data": {
      "text/plain": [
       "<div class=\"postmaster\" data-postid=\"97964\">\n",
       "<p class=\"column-caption\"></p>\n",
       "<div class=\"post\">\n",
       "<h1><a href=\"https://daphnecaruanagalizia.com/2017/10/first-things-first-something-horrendous-posture/\" rel=\"bookmark\" title=\"Permanent Link to First things first: do something about that horrendous posture\">\n",
       "First things first: do something about that horrendous posture </a>\n",
       "</h1>\n",
       "<div class=\"entry\">\n",
       "<p>\n",
       "You can wear the flashiest watch and keep your snazzy shirt-cuff turned up to make …</p>\n",
       "</div>\n",
       "<p class=\"postmetadata\"><a href=\"https://daphnecaruanagalizia.com/2017/10/first-things-first-something-horrendous-posture/#respond\">Post a comment</a> | <a href=\"https://daphnecaruanagalizia.com/2017/10/first-things-first-something-horrendous-posture/#comments\"><span class=\"dsq-postid\" data-dsqidentifier=\"97964 https://daphnecaruanagalizia.com/?p=97964\">Read (4)</span></a> | <span class=\"time\">Monday, 16 October 2:09 pm</span></p>\n",
       "</div>\n",
       "</div>"
      ]
     },
     "execution_count": 4,
     "metadata": {},
     "output_type": "execute_result"
    }
   ],
   "source": [
    "# Explore first entry \n",
    "posts[0]"
   ]
  },
  {
   "cell_type": "code",
   "execution_count": 5,
   "metadata": {},
   "outputs": [
    {
     "data": {
      "text/plain": [
       "'https://daphnecaruanagalizia.com/2017/10/first-things-first-something-horrendous-posture/'"
      ]
     },
     "execution_count": 5,
     "metadata": {},
     "output_type": "execute_result"
    }
   ],
   "source": [
    "# url \n",
    "posts[0].a[\"href\"]"
   ]
  },
  {
   "cell_type": "code",
   "execution_count": 6,
   "metadata": {},
   "outputs": [
    {
     "data": {
      "text/plain": [
       "'Monday, 16 October 2:09 pm'"
      ]
     },
     "execution_count": 6,
     "metadata": {},
     "output_type": "execute_result"
    }
   ],
   "source": [
    "# time stamp\n",
    "posts[0].find(class_=\"time\").get_text()"
   ]
  },
  {
   "cell_type": "code",
   "execution_count": 7,
   "metadata": {},
   "outputs": [
    {
     "data": {
      "text/plain": [
       "'Permanent Link to First things first: do something about that horrendous posture'"
      ]
     },
     "execution_count": 7,
     "metadata": {},
     "output_type": "execute_result"
    }
   ],
   "source": [
    "# title of posts\n",
    "posts[0].a[\"title\"]"
   ]
  },
  {
   "cell_type": "code",
   "execution_count": 8,
   "metadata": {},
   "outputs": [
    {
     "data": {
      "text/plain": [
       "'97964'"
      ]
     },
     "execution_count": 8,
     "metadata": {},
     "output_type": "execute_result"
    }
   ],
   "source": [
    "# post id\n",
    "posts[0].get('data-postid')"
   ]
  },
  {
   "cell_type": "code",
   "execution_count": 9,
   "metadata": {
    "collapsed": true
   },
   "outputs": [],
   "source": [
    "# Extract relevant content from main page, loop through posts\n",
    "\n",
    "new_lst = []\n",
    "\n",
    "for element in posts:\n",
    "    \n",
    "    url = element.a[\"href\"]\n",
    "    title = element.a[\"title\"]\n",
    "    title = title[18:]\n",
    "    date = element.find(class_=\"time\").get_text()\n",
    "    post_id = element.get('data-postid')\n",
    "        \n",
    "    #print(url)\n",
    "    response = requests.get(url)\n",
    "    soup = BeautifulSoup(response.text, 'html.parser')\n",
    "    text = soup.find('div', {'class': 'entry'}).text.strip()\n",
    "    \n",
    "    temp_dict = {'URL': url,\n",
    "                'Title': title,\n",
    "                'Date': date,\n",
    "                'ID': post_id,\n",
    "                'Txt': text}\n",
    "    \n",
    "    new_lst.append(temp_dict)\n",
    "    \n",
    "    "
   ]
  },
  {
   "cell_type": "code",
   "execution_count": 11,
   "metadata": {},
   "outputs": [
    {
     "data": {
      "text/html": [
       "<div>\n",
       "<style>\n",
       "    .dataframe thead tr:only-child th {\n",
       "        text-align: right;\n",
       "    }\n",
       "\n",
       "    .dataframe thead th {\n",
       "        text-align: left;\n",
       "    }\n",
       "\n",
       "    .dataframe tbody tr th {\n",
       "        vertical-align: top;\n",
       "    }\n",
       "</style>\n",
       "<table border=\"1\" class=\"dataframe\">\n",
       "  <thead>\n",
       "    <tr style=\"text-align: right;\">\n",
       "      <th></th>\n",
       "      <th>Date</th>\n",
       "      <th>ID</th>\n",
       "      <th>Title</th>\n",
       "      <th>Txt</th>\n",
       "      <th>URL</th>\n",
       "    </tr>\n",
       "  </thead>\n",
       "  <tbody>\n",
       "    <tr>\n",
       "      <th>0</th>\n",
       "      <td>Monday, 16 October 2:09 pm</td>\n",
       "      <td>97964</td>\n",
       "      <td>First things first: do something about that ho...</td>\n",
       "      <td>You can wear the flashiest watch and keep your...</td>\n",
       "      <td>https://daphnecaruanagalizia.com/2017/10/first...</td>\n",
       "    </tr>\n",
       "    <tr>\n",
       "      <th>1</th>\n",
       "      <td>Sunday, 15 October 10:07 pm</td>\n",
       "      <td>97961</td>\n",
       "      <td>Austria’s new chancellor is 31 – and will have...</td>\n",
       "      <td>Exit polls show that Sebastian Kurz, 31, is ab...</td>\n",
       "      <td>https://daphnecaruanagalizia.com/2017/10/austr...</td>\n",
       "    </tr>\n",
       "    <tr>\n",
       "      <th>2</th>\n",
       "      <td>Sunday, 15 October 7:26 pm</td>\n",
       "      <td>97958</td>\n",
       "      <td>The party leaders and Sunday morning</td>\n",
       "      <td>Is it going to be a five-year electoral campai...</td>\n",
       "      <td>https://daphnecaruanagalizia.com/2017/10/party...</td>\n",
       "    </tr>\n",
       "    <tr>\n",
       "      <th>3</th>\n",
       "      <td>Saturday, 14 October 12:52 am</td>\n",
       "      <td>97955</td>\n",
       "      <td>Looks like Delia is surrounding himself with l...</td>\n",
       "      <td>The disgraceful thing is that this man has bee...</td>\n",
       "      <td>https://daphnecaruanagalizia.com/2017/10/looks...</td>\n",
       "    </tr>\n",
       "    <tr>\n",
       "      <th>4</th>\n",
       "      <td>Saturday, 14 October 12:26 am</td>\n",
       "      <td>97952</td>\n",
       "      <td>Chris Cardona: a one-track mind</td>\n",
       "      <td>“I don’t recall any other budget having given ...</td>\n",
       "      <td>https://daphnecaruanagalizia.com/2017/10/chris...</td>\n",
       "    </tr>\n",
       "  </tbody>\n",
       "</table>\n",
       "</div>"
      ],
      "text/plain": [
       "                            Date     ID  \\\n",
       "0     Monday, 16 October 2:09 pm  97964   \n",
       "1    Sunday, 15 October 10:07 pm  97961   \n",
       "2     Sunday, 15 October 7:26 pm  97958   \n",
       "3  Saturday, 14 October 12:52 am  97955   \n",
       "4  Saturday, 14 October 12:26 am  97952   \n",
       "\n",
       "                                               Title  \\\n",
       "0  First things first: do something about that ho...   \n",
       "1  Austria’s new chancellor is 31 – and will have...   \n",
       "2               The party leaders and Sunday morning   \n",
       "3  Looks like Delia is surrounding himself with l...   \n",
       "4                    Chris Cardona: a one-track mind   \n",
       "\n",
       "                                                 Txt  \\\n",
       "0  You can wear the flashiest watch and keep your...   \n",
       "1  Exit polls show that Sebastian Kurz, 31, is ab...   \n",
       "2  Is it going to be a five-year electoral campai...   \n",
       "3  The disgraceful thing is that this man has bee...   \n",
       "4  “I don’t recall any other budget having given ...   \n",
       "\n",
       "                                                 URL  \n",
       "0  https://daphnecaruanagalizia.com/2017/10/first...  \n",
       "1  https://daphnecaruanagalizia.com/2017/10/austr...  \n",
       "2  https://daphnecaruanagalizia.com/2017/10/party...  \n",
       "3  https://daphnecaruanagalizia.com/2017/10/looks...  \n",
       "4  https://daphnecaruanagalizia.com/2017/10/chris...  "
      ]
     },
     "execution_count": 11,
     "metadata": {},
     "output_type": "execute_result"
    }
   ],
   "source": [
    "pd.DataFrame(new_lst)[0:5]"
   ]
  },
  {
   "cell_type": "code",
   "execution_count": 12,
   "metadata": {},
   "outputs": [
    {
     "name": "stderr",
     "output_type": "stream",
     "text": [
      " 88% (8 of 9) |########################    | Elapsed Time: 0:02:42 ETA: 0:00:20"
     ]
    }
   ],
   "source": [
    "# Putting everything together: scrape posts from all pages for relevant content\n",
    "\n",
    "bar = progressbar.ProgressBar()\n",
    "\n",
    "new_lst = []\n",
    "\n",
    "# showcase for the first 9 pages / to get all pages change to range(1,1443)\n",
    "for elem,i in zip(range(1,10), bar((range(1,10)))):\n",
    "\n",
    "    page = \"https://daphnecaruanagalizia.com/page/\" + str(elem)\n",
    "    \n",
    "    response = requests.get(page)\n",
    "    soup = BeautifulSoup(response.text, 'html.parser')\n",
    "    \n",
    "    posts = soup.find_all(\"div\", class_=\"postmaster\")\n",
    "    #soup.find_all('div', {'class':'postmaster'})\n",
    "\n",
    "    for element in posts:\n",
    "\n",
    "        url = element.a[\"href\"]\n",
    "        \n",
    "        url_temp = url.replace(\"https://daphnecaruanagalizia.com/\", \"\")\n",
    "        date_y = url_temp[:4]\n",
    "        date_m = url_temp[5:7]\n",
    "        \n",
    "        # dealing with error message stemming from one post on page 127\n",
    "        try:\n",
    "            date_t = element.find(class_=\"time\").get_text()\n",
    "\n",
    "        except AttributeError:\n",
    "            date_t = \"n.a.\"\n",
    "            \n",
    "        title = element.a[\"title\"]\n",
    "        title = title.replace(\"Permanent Link to \", \"\")\n",
    "        \n",
    "        post_id = element.get('data-postid')\n",
    "        \n",
    "        response = requests.get(url)\n",
    "        abc = BeautifulSoup(response.text, 'html.parser')\n",
    "        text = abc.find('div', {'class': 'entry'}).text.strip()\n",
    "        text = text.replace('\\n', ' ')\n",
    "\n",
    "        temp_dict = {'Link': url,\n",
    "                    'Title': title,\n",
    "                    'Txt': text,\n",
    "                    'Date_1': date_y,\n",
    "                    'Date_2': date_m,\n",
    "                    'Date_3': date_t,\n",
    "                    'ID_post': post_id,\n",
    "                    'ID_page': i }\n",
    "\n",
    "        new_lst.append(temp_dict)\n",
    "    \n",
    "\n",
    "df = pd.DataFrame(new_lst)\n",
    "df.to_csv('daphne.csv', sep='\\t', encoding='utf-16')\n",
    "\n"
   ]
  },
  {
   "cell_type": "code",
   "execution_count": 12,
   "metadata": {},
   "outputs": [
    {
     "data": {
      "text/html": [
       "<div>\n",
       "<style>\n",
       "    .dataframe thead tr:only-child th {\n",
       "        text-align: right;\n",
       "    }\n",
       "\n",
       "    .dataframe thead th {\n",
       "        text-align: left;\n",
       "    }\n",
       "\n",
       "    .dataframe tbody tr th {\n",
       "        vertical-align: top;\n",
       "    }\n",
       "</style>\n",
       "<table border=\"1\" class=\"dataframe\">\n",
       "  <thead>\n",
       "    <tr style=\"text-align: right;\">\n",
       "      <th></th>\n",
       "      <th>Date_1</th>\n",
       "      <th>Date_2</th>\n",
       "      <th>Date_3</th>\n",
       "      <th>ID_page</th>\n",
       "      <th>ID_post</th>\n",
       "      <th>Link</th>\n",
       "      <th>Title</th>\n",
       "      <th>Txt</th>\n",
       "    </tr>\n",
       "  </thead>\n",
       "  <tbody>\n",
       "    <tr>\n",
       "      <th>0</th>\n",
       "      <td>2017</td>\n",
       "      <td>10</td>\n",
       "      <td>Monday, 16 October 2:09 pm</td>\n",
       "      <td>1</td>\n",
       "      <td>97964</td>\n",
       "      <td>https://daphnecaruanagalizia.com/2017/10/first...</td>\n",
       "      <td>First things first: do something about that ho...</td>\n",
       "      <td>You can wear the flashiest watch and keep your...</td>\n",
       "    </tr>\n",
       "    <tr>\n",
       "      <th>1</th>\n",
       "      <td>2017</td>\n",
       "      <td>10</td>\n",
       "      <td>Sunday, 15 October 10:07 pm</td>\n",
       "      <td>1</td>\n",
       "      <td>97961</td>\n",
       "      <td>https://daphnecaruanagalizia.com/2017/10/austr...</td>\n",
       "      <td>Austria’s new chancellor is 31 – and will have...</td>\n",
       "      <td>Exit polls show that Sebastian Kurz, 31, is ab...</td>\n",
       "    </tr>\n",
       "    <tr>\n",
       "      <th>2</th>\n",
       "      <td>2017</td>\n",
       "      <td>10</td>\n",
       "      <td>Sunday, 15 October 7:26 pm</td>\n",
       "      <td>1</td>\n",
       "      <td>97958</td>\n",
       "      <td>https://daphnecaruanagalizia.com/2017/10/party...</td>\n",
       "      <td>The party leaders and Sunday morning</td>\n",
       "      <td>Is it going to be a five-year electoral campai...</td>\n",
       "    </tr>\n",
       "    <tr>\n",
       "      <th>3</th>\n",
       "      <td>2017</td>\n",
       "      <td>10</td>\n",
       "      <td>Saturday, 14 October 12:52 am</td>\n",
       "      <td>1</td>\n",
       "      <td>97955</td>\n",
       "      <td>https://daphnecaruanagalizia.com/2017/10/looks...</td>\n",
       "      <td>Looks like Delia is surrounding himself with l...</td>\n",
       "      <td>The disgraceful thing is that this man has bee...</td>\n",
       "    </tr>\n",
       "    <tr>\n",
       "      <th>4</th>\n",
       "      <td>2017</td>\n",
       "      <td>10</td>\n",
       "      <td>Saturday, 14 October 12:26 am</td>\n",
       "      <td>1</td>\n",
       "      <td>97952</td>\n",
       "      <td>https://daphnecaruanagalizia.com/2017/10/chris...</td>\n",
       "      <td>Chris Cardona: a one-track mind</td>\n",
       "      <td>“I don’t recall any other budget having given ...</td>\n",
       "    </tr>\n",
       "  </tbody>\n",
       "</table>\n",
       "</div>"
      ],
      "text/plain": [
       "  Date_1 Date_2                         Date_3  ID_page ID_post  \\\n",
       "0   2017     10     Monday, 16 October 2:09 pm        1   97964   \n",
       "1   2017     10    Sunday, 15 October 10:07 pm        1   97961   \n",
       "2   2017     10     Sunday, 15 October 7:26 pm        1   97958   \n",
       "3   2017     10  Saturday, 14 October 12:52 am        1   97955   \n",
       "4   2017     10  Saturday, 14 October 12:26 am        1   97952   \n",
       "\n",
       "                                                Link  \\\n",
       "0  https://daphnecaruanagalizia.com/2017/10/first...   \n",
       "1  https://daphnecaruanagalizia.com/2017/10/austr...   \n",
       "2  https://daphnecaruanagalizia.com/2017/10/party...   \n",
       "3  https://daphnecaruanagalizia.com/2017/10/looks...   \n",
       "4  https://daphnecaruanagalizia.com/2017/10/chris...   \n",
       "\n",
       "                                               Title  \\\n",
       "0  First things first: do something about that ho...   \n",
       "1  Austria’s new chancellor is 31 – and will have...   \n",
       "2               The party leaders and Sunday morning   \n",
       "3  Looks like Delia is surrounding himself with l...   \n",
       "4                    Chris Cardona: a one-track mind   \n",
       "\n",
       "                                                 Txt  \n",
       "0  You can wear the flashiest watch and keep your...  \n",
       "1  Exit polls show that Sebastian Kurz, 31, is ab...  \n",
       "2  Is it going to be a five-year electoral campai...  \n",
       "3  The disgraceful thing is that this man has bee...  \n",
       "4  “I don’t recall any other budget having given ...  "
      ]
     },
     "execution_count": 12,
     "metadata": {},
     "output_type": "execute_result"
    }
   ],
   "source": [
    "pd.DataFrame(new_lst)[0:5]"
   ]
  },
  {
   "cell_type": "code",
   "execution_count": null,
   "metadata": {
    "collapsed": true
   },
   "outputs": [],
   "source": []
  }
 ],
 "metadata": {
  "kernelspec": {
   "display_name": "Python 3",
   "language": "python",
   "name": "python3"
  },
  "language_info": {
   "codemirror_mode": {
    "name": "ipython",
    "version": 3
   },
   "file_extension": ".py",
   "mimetype": "text/x-python",
   "name": "python",
   "nbconvert_exporter": "python",
   "pygments_lexer": "ipython3",
   "version": "3.5.1"
  }
 },
 "nbformat": 4,
 "nbformat_minor": 2
}
