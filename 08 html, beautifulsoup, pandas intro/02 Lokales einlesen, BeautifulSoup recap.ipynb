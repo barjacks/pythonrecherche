{
 "cells": [
  {
   "cell_type": "markdown",
   "metadata": {},
   "source": [
    "# Lokale Dateien, recap von BeautifulSoup"
   ]
  },
  {
   "cell_type": "markdown",
   "metadata": {},
   "source": [
    "# Imports"
   ]
  },
  {
   "cell_type": "code",
   "execution_count": 21,
   "metadata": {
    "collapsed": true
   },
   "outputs": [],
   "source": [
    "import os\n",
    "from bs4 import BeautifulSoup\n",
    "import pandas as pd"
   ]
  },
  {
   "cell_type": "markdown",
   "metadata": {},
   "source": [
    "# Lesen wir alles, was in aktuellen Folder ist"
   ]
  },
  {
   "cell_type": "code",
   "execution_count": 6,
   "metadata": {},
   "outputs": [
    {
     "data": {
      "text/plain": [
       "['20171130_SIX_ManagementAktien.csv',\n",
       " '03 First steps with Pandas.ipynb',\n",
       " '.DS_Store',\n",
       " 'find_month.py',\n",
       " '04 First steps with stackoverflow.md',\n",
       " '01_html_Einblick.htm',\n",
       " '.ipynb_checkpoints',\n",
       " '02 Lokales einlesen, BeautifulSoup recap.ipynb']"
      ]
     },
     "execution_count": 6,
     "metadata": {},
     "output_type": "execute_result"
    }
   ],
   "source": [
    "os.listdir(os.curdir)"
   ]
  },
  {
   "cell_type": "markdown",
   "metadata": {},
   "source": [
    "# Lesen wir das File ein, das wir wollen"
   ]
  },
  {
   "cell_type": "code",
   "execution_count": 10,
   "metadata": {
    "collapsed": true
   },
   "outputs": [],
   "source": [
    "file = open('01_html_Einblick.htm', 'r')\n",
    "file = file.read()"
   ]
  },
  {
   "cell_type": "code",
   "execution_count": 11,
   "metadata": {},
   "outputs": [
    {
     "data": {
      "text/plain": [
       "'<!DOCTYPE html>\\n<hmtl>\\n<body>\\n<h1> Ich bin ein Titel</h1>\\n<p> Hier schreibe ich jetzt einen kleinen Text</p>\\n\\n  <table style=\"width:10%\">\\n<tr>\\n<th>Firstname</th>\\n<th>Lastname</th>\\n<th>Age</th>\\n</tr>\\n\\n<td>Markus</td>\\n<td>Schmitt</td>\\n<td>50</td>\\n</tr>\\n\\n<tr>\\n<td>Susanne</td>\\n<td>Peters</td>\\n<td>94</td>\\n\\n<td>Markus</td>\\n<td>Schmitt</td>\\n<td>50</td>\\n</tr>\\n\\n<tr>\\n<td>Michael</td>\\n<td>Peters</td>\\n<td>22</td>\\n\\n<td>Ahmad</td>\\n<td>Islam</td>\\n<td>30</td>\\n</tr>\\n\\n<tr>\\n<td>Michaela</td>\\n<td>Holmstadt</td>\\n<td>35</td>\\n\\n</tr>\\n</table>\\n<p>\\n<a href=\\'https://www.w3schools.com/html/html_elements.asp\\'> Link auf mehr HMTL Code</a>\\n</body>\\n</hmtl>\\n'"
      ]
     },
     "execution_count": 11,
     "metadata": {},
     "output_type": "execute_result"
    }
   ],
   "source": [
    "file"
   ]
  },
  {
   "cell_type": "markdown",
   "metadata": {},
   "source": [
    "# Führen wir BeautifulSoup ein"
   ]
  },
  {
   "cell_type": "code",
   "execution_count": 13,
   "metadata": {},
   "outputs": [
    {
     "data": {
      "text/plain": [
       "<!DOCTYPE html>\n",
       "\n",
       "<hmtl>\n",
       "<body>\n",
       "<h1> Ich bin ein Titel</h1>\n",
       "<p> Hier schreibe ich jetzt einen kleinen Text</p>\n",
       "<table style=\"width:10%\">\n",
       "<tr>\n",
       "<th>Firstname</th>\n",
       "<th>Lastname</th>\n",
       "<th>Age</th>\n",
       "</tr>\n",
       "<td>Markus</td>\n",
       "<td>Schmitt</td>\n",
       "<td>50</td>\n",
       "</table></body></hmtl>\n",
       "<tr>\n",
       "<td>Susanne</td>\n",
       "<td>Peters</td>\n",
       "<td>94</td>\n",
       "<td>Markus</td>\n",
       "<td>Schmitt</td>\n",
       "<td>50</td>\n",
       "</tr>\n",
       "<tr>\n",
       "<td>Michael</td>\n",
       "<td>Peters</td>\n",
       "<td>22</td>\n",
       "<td>Ahmad</td>\n",
       "<td>Islam</td>\n",
       "<td>30</td>\n",
       "</tr>\n",
       "<tr>\n",
       "<td>Michaela</td>\n",
       "<td>Holmstadt</td>\n",
       "<td>35</td>\n",
       "</tr>\n",
       "\n",
       "<p>\n",
       "<a href=\"https://www.w3schools.com/html/html_elements.asp\"> Link auf mehr HMTL Code</a>\n",
       "</p>\n"
      ]
     },
     "execution_count": 13,
     "metadata": {},
     "output_type": "execute_result"
    }
   ],
   "source": [
    "BeautifulSoup(file, 'html.parser')"
   ]
  },
  {
   "cell_type": "code",
   "execution_count": 14,
   "metadata": {
    "collapsed": true
   },
   "outputs": [],
   "source": [
    "file_soup = BeautifulSoup(file, 'html.parser')"
   ]
  },
  {
   "cell_type": "code",
   "execution_count": 17,
   "metadata": {},
   "outputs": [
    {
     "data": {
      "text/plain": [
       "[<td>Markus</td>,\n",
       " <td>Schmitt</td>,\n",
       " <td>50</td>,\n",
       " <td>Susanne</td>,\n",
       " <td>Peters</td>,\n",
       " <td>94</td>,\n",
       " <td>Markus</td>,\n",
       " <td>Schmitt</td>,\n",
       " <td>50</td>,\n",
       " <td>Michael</td>,\n",
       " <td>Peters</td>,\n",
       " <td>22</td>,\n",
       " <td>Ahmad</td>,\n",
       " <td>Islam</td>,\n",
       " <td>30</td>,\n",
       " <td>Michaela</td>,\n",
       " <td>Holmstadt</td>,\n",
       " <td>35</td>]"
      ]
     },
     "execution_count": 17,
     "metadata": {},
     "output_type": "execute_result"
    }
   ],
   "source": [
    "file_soup.find_all('td')"
   ]
  },
  {
   "cell_type": "code",
   "execution_count": 18,
   "metadata": {
    "collapsed": true
   },
   "outputs": [],
   "source": [
    "lst = file_soup.find_all('td')"
   ]
  },
  {
   "cell_type": "code",
   "execution_count": 20,
   "metadata": {},
   "outputs": [
    {
     "name": "stdout",
     "output_type": "stream",
     "text": [
      "Markus\n",
      "Schmitt\n",
      "50\n",
      "Susanne\n",
      "Peters\n",
      "94\n",
      "Markus\n",
      "Schmitt\n",
      "50\n",
      "Michael\n",
      "Peters\n",
      "22\n",
      "Ahmad\n",
      "Islam\n",
      "30\n",
      "Michaela\n",
      "Holmstadt\n",
      "35\n"
     ]
    }
   ],
   "source": [
    "for elem in lst:\n",
    "    print(elem.text)"
   ]
  },
  {
   "cell_type": "markdown",
   "metadata": {},
   "source": [
    "# Wir bringen wir das jetzt in die geeignete Form?"
   ]
  },
  {
   "cell_type": "markdown",
   "metadata": {},
   "source": [
    "## Nur ein möglicher Ansatz"
   ]
  },
  {
   "cell_type": "code",
   "execution_count": 22,
   "metadata": {},
   "outputs": [
    {
     "data": {
      "text/plain": [
       "[<td>Markus</td>,\n",
       " <td>Susanne</td>,\n",
       " <td>Markus</td>,\n",
       " <td>Michael</td>,\n",
       " <td>Ahmad</td>,\n",
       " <td>Michaela</td>]"
      ]
     },
     "execution_count": 22,
     "metadata": {},
     "output_type": "execute_result"
    }
   ],
   "source": [
    "lst[::3]"
   ]
  },
  {
   "cell_type": "code",
   "execution_count": 23,
   "metadata": {},
   "outputs": [
    {
     "data": {
      "text/plain": [
       "[<td>Schmitt</td>,\n",
       " <td>Peters</td>,\n",
       " <td>Schmitt</td>,\n",
       " <td>Peters</td>,\n",
       " <td>Islam</td>,\n",
       " <td>Holmstadt</td>]"
      ]
     },
     "execution_count": 23,
     "metadata": {},
     "output_type": "execute_result"
    }
   ],
   "source": [
    "lst[1::3]"
   ]
  },
  {
   "cell_type": "code",
   "execution_count": 24,
   "metadata": {},
   "outputs": [
    {
     "data": {
      "text/plain": [
       "[<td>50</td>, <td>94</td>, <td>50</td>, <td>22</td>, <td>30</td>, <td>35</td>]"
      ]
     },
     "execution_count": 24,
     "metadata": {},
     "output_type": "execute_result"
    }
   ],
   "source": [
    "lst[2::3]"
   ]
  },
  {
   "cell_type": "code",
   "execution_count": 27,
   "metadata": {
    "collapsed": true
   },
   "outputs": [],
   "source": [
    "final_lst = []\n",
    "for n,nn,a in zip(lst[::3], lst[1::3], lst[2::3]):\n",
    "    mini_dict = {'Vorname':n.text,\n",
    "                 'Nachname':nn.text,\n",
    "                 'Alter':a.text}\n",
    "    final_lst.append(mini_dict)"
   ]
  },
  {
   "cell_type": "code",
   "execution_count": 28,
   "metadata": {},
   "outputs": [
    {
     "data": {
      "text/html": [
       "<div>\n",
       "<style>\n",
       "    .dataframe thead tr:only-child th {\n",
       "        text-align: right;\n",
       "    }\n",
       "\n",
       "    .dataframe thead th {\n",
       "        text-align: left;\n",
       "    }\n",
       "\n",
       "    .dataframe tbody tr th {\n",
       "        vertical-align: top;\n",
       "    }\n",
       "</style>\n",
       "<table border=\"1\" class=\"dataframe\">\n",
       "  <thead>\n",
       "    <tr style=\"text-align: right;\">\n",
       "      <th></th>\n",
       "      <th>Alter</th>\n",
       "      <th>Nachname</th>\n",
       "      <th>Vorname</th>\n",
       "    </tr>\n",
       "  </thead>\n",
       "  <tbody>\n",
       "    <tr>\n",
       "      <th>0</th>\n",
       "      <td>50</td>\n",
       "      <td>Schmitt</td>\n",
       "      <td>Markus</td>\n",
       "    </tr>\n",
       "    <tr>\n",
       "      <th>1</th>\n",
       "      <td>94</td>\n",
       "      <td>Peters</td>\n",
       "      <td>Susanne</td>\n",
       "    </tr>\n",
       "    <tr>\n",
       "      <th>2</th>\n",
       "      <td>50</td>\n",
       "      <td>Schmitt</td>\n",
       "      <td>Markus</td>\n",
       "    </tr>\n",
       "    <tr>\n",
       "      <th>3</th>\n",
       "      <td>22</td>\n",
       "      <td>Peters</td>\n",
       "      <td>Michael</td>\n",
       "    </tr>\n",
       "    <tr>\n",
       "      <th>4</th>\n",
       "      <td>30</td>\n",
       "      <td>Islam</td>\n",
       "      <td>Ahmad</td>\n",
       "    </tr>\n",
       "    <tr>\n",
       "      <th>5</th>\n",
       "      <td>35</td>\n",
       "      <td>Holmstadt</td>\n",
       "      <td>Michaela</td>\n",
       "    </tr>\n",
       "  </tbody>\n",
       "</table>\n",
       "</div>"
      ],
      "text/plain": [
       "  Alter   Nachname   Vorname\n",
       "0    50    Schmitt    Markus\n",
       "1    94     Peters   Susanne\n",
       "2    50    Schmitt    Markus\n",
       "3    22     Peters   Michael\n",
       "4    30      Islam     Ahmad\n",
       "5    35  Holmstadt  Michaela"
      ]
     },
     "execution_count": 28,
     "metadata": {},
     "output_type": "execute_result"
    }
   ],
   "source": [
    "pd.DataFrame(final_lst)"
   ]
  },
  {
   "cell_type": "code",
   "execution_count": null,
   "metadata": {
    "collapsed": true
   },
   "outputs": [],
   "source": []
  }
 ],
 "metadata": {
  "kernelspec": {
   "display_name": "Python 3",
   "language": "python",
   "name": "python3"
  },
  "language_info": {
   "codemirror_mode": {
    "name": "ipython",
    "version": 3
   },
   "file_extension": ".py",
   "mimetype": "text/x-python",
   "name": "python",
   "nbconvert_exporter": "python",
   "pygments_lexer": "ipython3",
   "version": "3.5.1"
  }
 },
 "nbformat": 4,
 "nbformat_minor": 2
}
