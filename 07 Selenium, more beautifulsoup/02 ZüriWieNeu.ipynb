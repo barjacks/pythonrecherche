{
 "cells": [
  {
   "cell_type": "code",
   "execution_count": 1,
   "metadata": {
    "collapsed": true
   },
   "outputs": [],
   "source": [
    "from selenium import webdriver\n",
    "from selenium.webdriver.common.by import By\n",
    "from selenium.webdriver.support.ui import Select\n",
    "from bs4 import BeautifulSoup\n",
    "import pandas as pd\n",
    "import requests"
   ]
  },
  {
   "cell_type": "code",
   "execution_count": 2,
   "metadata": {
    "collapsed": true
   },
   "outputs": [],
   "source": [
    "url = \"https://www.zueriwieneu.ch/report/12793\"\n",
    "response = requests.get(url)\n",
    "züri_soup = BeautifulSoup(response.text, 'html.parser')"
   ]
  },
  {
   "cell_type": "markdown",
   "metadata": {},
   "source": [
    "# Testing"
   ]
  },
  {
   "cell_type": "code",
   "execution_count": 7,
   "metadata": {},
   "outputs": [
    {
     "data": {
      "text/plain": [
       "'In der Kategorie Abfall/Sammelstelle gemeldet'"
      ]
     },
     "execution_count": 7,
     "metadata": {},
     "output_type": "execute_result"
    }
   ],
   "source": [
    "züri_soup.find('h1').text"
   ]
  },
  {
   "cell_type": "code",
   "execution_count": 9,
   "metadata": {},
   "outputs": [
    {
     "data": {
      "text/plain": [
       "'13:04 heute'"
      ]
     },
     "execution_count": 9,
     "metadata": {},
     "output_type": "execute_result"
    }
   ],
   "source": [
    "züri_soup.find('div', {'class':'problem-header clearfix'}).find('p').text.strip()"
   ]
  },
  {
   "cell_type": "code",
   "execution_count": 23,
   "metadata": {},
   "outputs": [
    {
     "data": {
      "text/plain": [
       "<p>\n",
       "Leider wurden diese Möbel und Anderes auf dem Parkplatz Entlisberg entsorgt.</p>"
      ]
     },
     "execution_count": 23,
     "metadata": {},
     "output_type": "execute_result"
    }
   ],
   "source": [
    "züri_soup.find('div', {'class':'problem-header clearfix'}).find_all('p')[1]"
   ]
  },
  {
   "cell_type": "code",
   "execution_count": 26,
   "metadata": {},
   "outputs": [
    {
     "data": {
      "text/plain": [
       "<p class=\"meta-2\">16:05 heute</p>"
      ]
     },
     "execution_count": 26,
     "metadata": {},
     "output_type": "execute_result"
    }
   ],
   "source": [
    "züri_soup.find('ul', {'class':'item-list item-list--updates'}).find_all('p')[0]"
   ]
  },
  {
   "cell_type": "code",
   "execution_count": 27,
   "metadata": {},
   "outputs": [
    {
     "data": {
      "text/plain": [
       "<p>\n",
       "ERZ Entsorgung + Recycling Zürich holt den gemeldeten Abfall bis spätestens am Mittwoch, 8. November ab. Besten Dank für Ihren Beitrag für ein sauberes Zürich.\n",
       "</p>"
      ]
     },
     "execution_count": 27,
     "metadata": {},
     "output_type": "execute_result"
    }
   ],
   "source": [
    "züri_soup.find('ul', {'class':'item-list item-list--updates'}).find_all('p')[1]"
   ]
  },
  {
   "cell_type": "markdown",
   "metadata": {},
   "source": [
    "# Building Loop"
   ]
  },
  {
   "cell_type": "code",
   "execution_count": 36,
   "metadata": {},
   "outputs": [
    {
     "ename": "AttributeError",
     "evalue": "'NoneType' object has no attribute 'find'",
     "output_type": "error",
     "traceback": [
      "\u001b[0;31m---------------------------------------------------------------------------\u001b[0m",
      "\u001b[0;31mAttributeError\u001b[0m                            Traceback (most recent call last)",
      "\u001b[0;32m<ipython-input-36-0a8404a0ca34>\u001b[0m in \u001b[0;36m<module>\u001b[0;34m()\u001b[0m\n\u001b[1;32m      9\u001b[0m     Mini_dict = {\n\u001b[1;32m     10\u001b[0m         \u001b[0;34m'Kategorie'\u001b[0m \u001b[0;34m:\u001b[0m \u001b[0mzüri_soup\u001b[0m\u001b[0;34m.\u001b[0m\u001b[0mfind\u001b[0m\u001b[0;34m(\u001b[0m\u001b[0;34m'h1'\u001b[0m\u001b[0;34m)\u001b[0m\u001b[0;34m.\u001b[0m\u001b[0mtext\u001b[0m\u001b[0;34m,\u001b[0m\u001b[0;34m\u001b[0m\u001b[0m\n\u001b[0;32m---> 11\u001b[0;31m         \u001b[0;34m'Meldedatum'\u001b[0m \u001b[0;34m:\u001b[0m \u001b[0mzüri_soup\u001b[0m\u001b[0;34m.\u001b[0m\u001b[0mfind\u001b[0m\u001b[0;34m(\u001b[0m\u001b[0;34m'div'\u001b[0m\u001b[0;34m,\u001b[0m \u001b[0;34m{\u001b[0m\u001b[0;34m'class'\u001b[0m\u001b[0;34m:\u001b[0m\u001b[0;34m'problem-header clearfix'\u001b[0m\u001b[0;34m}\u001b[0m\u001b[0;34m)\u001b[0m\u001b[0;34m.\u001b[0m\u001b[0mfind\u001b[0m\u001b[0;34m(\u001b[0m\u001b[0;34m'p'\u001b[0m\u001b[0;34m)\u001b[0m\u001b[0;34m.\u001b[0m\u001b[0mtext\u001b[0m\u001b[0;34m.\u001b[0m\u001b[0mstrip\u001b[0m\u001b[0;34m(\u001b[0m\u001b[0;34m)\u001b[0m\u001b[0;34m,\u001b[0m\u001b[0;34m\u001b[0m\u001b[0m\n\u001b[0m\u001b[1;32m     12\u001b[0m         \u001b[0;34m'Meldung'\u001b[0m \u001b[0;34m:\u001b[0m \u001b[0mzüri_soup\u001b[0m\u001b[0;34m.\u001b[0m\u001b[0mfind\u001b[0m\u001b[0;34m(\u001b[0m\u001b[0;34m'div'\u001b[0m\u001b[0;34m,\u001b[0m \u001b[0;34m{\u001b[0m\u001b[0;34m'class'\u001b[0m\u001b[0;34m:\u001b[0m\u001b[0;34m'problem-header clearfix'\u001b[0m\u001b[0;34m}\u001b[0m\u001b[0;34m)\u001b[0m\u001b[0;34m.\u001b[0m\u001b[0mfind_all\u001b[0m\u001b[0;34m(\u001b[0m\u001b[0;34m'p'\u001b[0m\u001b[0;34m)\u001b[0m\u001b[0;34m[\u001b[0m\u001b[0;36m1\u001b[0m\u001b[0;34m]\u001b[0m\u001b[0;34m,\u001b[0m\u001b[0;34m\u001b[0m\u001b[0m\n\u001b[1;32m     13\u001b[0m         \u001b[0;34m'Antwortdatum'\u001b[0m \u001b[0;34m:\u001b[0m \u001b[0mzüri_soup\u001b[0m\u001b[0;34m.\u001b[0m\u001b[0mfind\u001b[0m\u001b[0;34m(\u001b[0m\u001b[0;34m'ul'\u001b[0m\u001b[0;34m,\u001b[0m \u001b[0;34m{\u001b[0m\u001b[0;34m'class'\u001b[0m\u001b[0;34m:\u001b[0m\u001b[0;34m'item-list item-list--updates'\u001b[0m\u001b[0;34m}\u001b[0m\u001b[0;34m)\u001b[0m\u001b[0;34m.\u001b[0m\u001b[0mfind_all\u001b[0m\u001b[0;34m(\u001b[0m\u001b[0;34m'p'\u001b[0m\u001b[0;34m)\u001b[0m\u001b[0;34m[\u001b[0m\u001b[0;36m0\u001b[0m\u001b[0;34m]\u001b[0m\u001b[0;34m,\u001b[0m\u001b[0;34m\u001b[0m\u001b[0m\n",
      "\u001b[0;31mAttributeError\u001b[0m: 'NoneType' object has no attribute 'find'"
     ]
    }
   ],
   "source": [
    "lst = []\n",
    "\n",
    "for elem in range(1,5):\n",
    "    \n",
    "    url = \"https://www.zueriwieneu.ch/report/\" + str(elem)\n",
    "    response = requests.get(url)\n",
    "    züri_soup = BeautifulSoup(response.text, 'html.parser')\n",
    "    \n",
    "    Mini_dict = {\n",
    "        'Kategorie' : züri_soup.find('h1').text,\n",
    "        'Meldedatum' : züri_soup.find('div', {'class':'problem-header clearfix'}).find('p').text.strip(),\n",
    "        'Meldung' : züri_soup.find('div', {'class':'problem-header clearfix'}).find_all('p')[1],\n",
    "        'Antwortdatum' : züri_soup.find('ul', {'class':'item-list item-list--updates'}).find_all('p')[0],\n",
    "        'Antwort' : züri_soup.find('ul', {'class':'item-list item-list--updates'}).find_all('p')[1]\n",
    "        }  \n",
    "    \n",
    "    lst.append(Mini_dict)\n"
   ]
  },
  {
   "cell_type": "code",
   "execution_count": 37,
   "metadata": {},
   "outputs": [
    {
     "data": {
      "text/plain": [
       "[{'Antwort': <p>\n",
       "  Diese Reparatur wird von uns in den kommenden Wochen / Monaten ausgeführt. \n",
       "  </p>,\n",
       "  'Antwortdatum': <p class=\"meta-2\">07:59, 12. April 2013</p>,\n",
       "  'Kategorie': 'In der Kategorie Strasse/Trottoir/Platz gemeldet',\n",
       "  'Meldedatum': '15:16, 14. März 2013',\n",
       "  'Meldung': <p>\n",
       "  Auf dem Asphalt des Bürgersteigs hat es eine Erhebung, die man wirklich nicht sieht und immer wieder drüber stolpert.</p>},\n",
       " {'Antwort': <p>\n",
       "  Diese Reparatur wird von uns in den kommenden Wochen / Monaten ausgeführt.\n",
       "  </p>,\n",
       "  'Antwortdatum': <p class=\"meta-2\">08:00, 12. April 2013</p>,\n",
       "  'Kategorie': 'In der Kategorie Strasse/Trottoir/Platz gemeldet',\n",
       "  'Meldedatum': '15:17, 14. März 2013',\n",
       "  'Meldung': <p>\n",
       "  Vermessungspunkt ist nicht mehr bündig mit dem Boden und steht vor.</p>}]"
      ]
     },
     "execution_count": 37,
     "metadata": {},
     "output_type": "execute_result"
    }
   ],
   "source": [
    "lst"
   ]
  },
  {
   "cell_type": "markdown",
   "metadata": {},
   "source": [
    "# Adding URL"
   ]
  },
  {
   "cell_type": "code",
   "execution_count": 38,
   "metadata": {},
   "outputs": [
    {
     "ename": "AttributeError",
     "evalue": "'NoneType' object has no attribute 'find'",
     "output_type": "error",
     "traceback": [
      "\u001b[0;31m---------------------------------------------------------------------------\u001b[0m",
      "\u001b[0;31mAttributeError\u001b[0m                            Traceback (most recent call last)",
      "\u001b[0;32m<ipython-input-38-830632068db2>\u001b[0m in \u001b[0;36m<module>\u001b[0;34m()\u001b[0m\n\u001b[1;32m      9\u001b[0m     Mini_dict = {\n\u001b[1;32m     10\u001b[0m         \u001b[0;34m'Kategorie'\u001b[0m \u001b[0;34m:\u001b[0m \u001b[0mzüri_soup\u001b[0m\u001b[0;34m.\u001b[0m\u001b[0mfind\u001b[0m\u001b[0;34m(\u001b[0m\u001b[0;34m'h1'\u001b[0m\u001b[0;34m)\u001b[0m\u001b[0;34m.\u001b[0m\u001b[0mtext\u001b[0m\u001b[0;34m,\u001b[0m\u001b[0;34m\u001b[0m\u001b[0m\n\u001b[0;32m---> 11\u001b[0;31m         \u001b[0;34m'Meldedatum'\u001b[0m \u001b[0;34m:\u001b[0m \u001b[0mzüri_soup\u001b[0m\u001b[0;34m.\u001b[0m\u001b[0mfind\u001b[0m\u001b[0;34m(\u001b[0m\u001b[0;34m'div'\u001b[0m\u001b[0;34m,\u001b[0m \u001b[0;34m{\u001b[0m\u001b[0;34m'class'\u001b[0m\u001b[0;34m:\u001b[0m\u001b[0;34m'problem-header clearfix'\u001b[0m\u001b[0;34m}\u001b[0m\u001b[0;34m)\u001b[0m\u001b[0;34m.\u001b[0m\u001b[0mfind\u001b[0m\u001b[0;34m(\u001b[0m\u001b[0;34m'p'\u001b[0m\u001b[0;34m)\u001b[0m\u001b[0;34m.\u001b[0m\u001b[0mtext\u001b[0m\u001b[0;34m.\u001b[0m\u001b[0mstrip\u001b[0m\u001b[0;34m(\u001b[0m\u001b[0;34m)\u001b[0m\u001b[0;34m,\u001b[0m\u001b[0;34m\u001b[0m\u001b[0m\n\u001b[0m\u001b[1;32m     12\u001b[0m         \u001b[0;34m'Meldung'\u001b[0m \u001b[0;34m:\u001b[0m \u001b[0mzüri_soup\u001b[0m\u001b[0;34m.\u001b[0m\u001b[0mfind\u001b[0m\u001b[0;34m(\u001b[0m\u001b[0;34m'div'\u001b[0m\u001b[0;34m,\u001b[0m \u001b[0;34m{\u001b[0m\u001b[0;34m'class'\u001b[0m\u001b[0;34m:\u001b[0m\u001b[0;34m'problem-header clearfix'\u001b[0m\u001b[0;34m}\u001b[0m\u001b[0;34m)\u001b[0m\u001b[0;34m.\u001b[0m\u001b[0mfind_all\u001b[0m\u001b[0;34m(\u001b[0m\u001b[0;34m'p'\u001b[0m\u001b[0;34m)\u001b[0m\u001b[0;34m[\u001b[0m\u001b[0;36m1\u001b[0m\u001b[0;34m]\u001b[0m\u001b[0;34m,\u001b[0m\u001b[0;34m\u001b[0m\u001b[0m\n\u001b[1;32m     13\u001b[0m         \u001b[0;34m'Antwortdatum'\u001b[0m \u001b[0;34m:\u001b[0m \u001b[0mzüri_soup\u001b[0m\u001b[0;34m.\u001b[0m\u001b[0mfind\u001b[0m\u001b[0;34m(\u001b[0m\u001b[0;34m'ul'\u001b[0m\u001b[0;34m,\u001b[0m \u001b[0;34m{\u001b[0m\u001b[0;34m'class'\u001b[0m\u001b[0;34m:\u001b[0m\u001b[0;34m'item-list item-list--updates'\u001b[0m\u001b[0;34m}\u001b[0m\u001b[0;34m)\u001b[0m\u001b[0;34m.\u001b[0m\u001b[0mfind_all\u001b[0m\u001b[0;34m(\u001b[0m\u001b[0;34m'p'\u001b[0m\u001b[0;34m)\u001b[0m\u001b[0;34m[\u001b[0m\u001b[0;36m0\u001b[0m\u001b[0;34m]\u001b[0m\u001b[0;34m,\u001b[0m\u001b[0;34m\u001b[0m\u001b[0m\n",
      "\u001b[0;31mAttributeError\u001b[0m: 'NoneType' object has no attribute 'find'"
     ]
    }
   ],
   "source": [
    "lst = []\n",
    "\n",
    "for elem in range(1,5):\n",
    "    \n",
    "    url = \"https://www.zueriwieneu.ch/report/\" + str(elem)\n",
    "    response = requests.get(url)\n",
    "    züri_soup = BeautifulSoup(response.text, 'html.parser')\n",
    "    \n",
    "    Mini_dict = {\n",
    "        'Kategorie' : züri_soup.find('h1').text,\n",
    "        'Meldedatum' : züri_soup.find('div', {'class':'problem-header clearfix'}).find('p').text.strip(),\n",
    "        'Meldung' : züri_soup.find('div', {'class':'problem-header clearfix'}).find_all('p')[1],\n",
    "        'Antwortdatum' : züri_soup.find('ul', {'class':'item-list item-list--updates'}).find_all('p')[0],\n",
    "        'Antwort' : züri_soup.find('ul', {'class':'item-list item-list--updates'}).find_all('p')[1],\n",
    "        'URL' : url\n",
    "        }  \n",
    "    \n",
    "    lst.append(Mini_dict)\n"
   ]
  },
  {
   "cell_type": "code",
   "execution_count": 39,
   "metadata": {},
   "outputs": [
    {
     "data": {
      "text/plain": [
       "[{'Antwort': <p>\n",
       "  Diese Reparatur wird von uns in den kommenden Wochen / Monaten ausgeführt. \n",
       "  </p>,\n",
       "  'Antwortdatum': <p class=\"meta-2\">07:59, 12. April 2013</p>,\n",
       "  'Kategorie': 'In der Kategorie Strasse/Trottoir/Platz gemeldet',\n",
       "  'Meldedatum': '15:16, 14. März 2013',\n",
       "  'Meldung': <p>\n",
       "  Auf dem Asphalt des Bürgersteigs hat es eine Erhebung, die man wirklich nicht sieht und immer wieder drüber stolpert.</p>,\n",
       "  'URL': 'https://www.zueriwieneu.ch/report/1'},\n",
       " {'Antwort': <p>\n",
       "  Diese Reparatur wird von uns in den kommenden Wochen / Monaten ausgeführt.\n",
       "  </p>,\n",
       "  'Antwortdatum': <p class=\"meta-2\">08:00, 12. April 2013</p>,\n",
       "  'Kategorie': 'In der Kategorie Strasse/Trottoir/Platz gemeldet',\n",
       "  'Meldedatum': '15:17, 14. März 2013',\n",
       "  'Meldung': <p>\n",
       "  Vermessungspunkt ist nicht mehr bündig mit dem Boden und steht vor.</p>,\n",
       "  'URL': 'https://www.zueriwieneu.ch/report/2'}]"
      ]
     },
     "execution_count": 39,
     "metadata": {},
     "output_type": "execute_result"
    }
   ],
   "source": [
    "lst"
   ]
  },
  {
   "cell_type": "markdown",
   "metadata": {},
   "source": [
    "# Adding Exception"
   ]
  },
  {
   "cell_type": "code",
   "execution_count": 40,
   "metadata": {
    "collapsed": true
   },
   "outputs": [],
   "source": [
    "url = \"https://www.zueriwieneu.ch/report/3\"\n",
    "response = requests.get(url)\n",
    "züri_soup = BeautifulSoup(response.text, 'html.parser')"
   ]
  },
  {
   "cell_type": "code",
   "execution_count": 42,
   "metadata": {},
   "outputs": [
    {
     "data": {
      "text/plain": [
       "'Melden Sie Schäden an der Infrastruktur von Zürich'"
      ]
     },
     "execution_count": 42,
     "metadata": {},
     "output_type": "execute_result"
    }
   ],
   "source": [
    "züri_soup.find('h1').text"
   ]
  },
  {
   "cell_type": "code",
   "execution_count": 52,
   "metadata": {},
   "outputs": [],
   "source": [
    "lst = []\n",
    "lst_pass = []\n",
    "\n",
    "for elem in range(1,5):\n",
    "    \n",
    "    url = \"https://www.zueriwieneu.ch/report/\" + str(elem)\n",
    "    response = requests.get(url)\n",
    "    züri_soup = BeautifulSoup(response.text, 'html.parser')\n",
    "    \n",
    "    if züri_soup.find('h1').text != 'Melden Sie Schäden an der Infrastruktur von Zürich':\n",
    "        Mini_dict = {\n",
    "            'Kategorie' : züri_soup.find('h1').text,\n",
    "            'Meldedatum' : züri_soup.find('div', {'class':'problem-header clearfix'}).find('p').text.strip(),\n",
    "            'Meldung' : züri_soup.find('div', {'class':'problem-header clearfix'}).find_all('p')[1],\n",
    "            'Antwortdatum' : züri_soup.find('ul', {'class':'item-list item-list--updates'}).find_all('p')[0].text,\n",
    "            'Antwort' : züri_soup.find('ul', {'class':'item-list item-list--updates'}).find_all('p')[1].text,\n",
    "            'URL' : url\n",
    "            }  \n",
    "        \n",
    "        lst.append(Mini_dict)\n",
    "        \n",
    "    else:\n",
    "        lst_pass.append(url)"
   ]
  },
  {
   "cell_type": "code",
   "execution_count": 53,
   "metadata": {},
   "outputs": [
    {
     "data": {
      "text/plain": [
       "[{'Antwort': '\\nDiese Reparatur wird von uns in den kommenden Wochen / Monaten ausgeführt. \\n',\n",
       "  'Antwortdatum': '07:59, 12. April 2013',\n",
       "  'Kategorie': 'In der Kategorie Strasse/Trottoir/Platz gemeldet',\n",
       "  'Meldedatum': '15:16, 14. März 2013',\n",
       "  'Meldung': <p>\n",
       "  Auf dem Asphalt des Bürgersteigs hat es eine Erhebung, die man wirklich nicht sieht und immer wieder drüber stolpert.</p>,\n",
       "  'URL': 'https://www.zueriwieneu.ch/report/1'},\n",
       " {'Antwort': '\\nDiese Reparatur wird von uns in den kommenden Wochen / Monaten ausgeführt.\\n',\n",
       "  'Antwortdatum': '08:00, 12. April 2013',\n",
       "  'Kategorie': 'In der Kategorie Strasse/Trottoir/Platz gemeldet',\n",
       "  'Meldedatum': '15:17, 14. März 2013',\n",
       "  'Meldung': <p>\n",
       "  Vermessungspunkt ist nicht mehr bündig mit dem Boden und steht vor.</p>,\n",
       "  'URL': 'https://www.zueriwieneu.ch/report/2'},\n",
       " {'Antwort': '\\nDiese Reparatur wird von uns in den kommenden Wochen / Monaten ausgeführt.\\nFreundliche Grüsse\\n',\n",
       "  'Antwortdatum': '08:08, 12. April 2013',\n",
       "  'Kategorie': 'In der Kategorie Strasse/Trottoir/Platz gemeldet',\n",
       "  'Meldedatum': '09:14, 15. März 2013',\n",
       "  'Meldung': <p>\n",
       "  Beim Trottoir sind einige Randsteine defekt und der Belag ist abgesunken. Im Winter bleibt Wasser liegen.</p>,\n",
       "  'URL': 'https://www.zueriwieneu.ch/report/4'}]"
      ]
     },
     "execution_count": 53,
     "metadata": {},
     "output_type": "execute_result"
    }
   ],
   "source": [
    "lst"
   ]
  },
  {
   "cell_type": "code",
   "execution_count": 54,
   "metadata": {},
   "outputs": [
    {
     "data": {
      "text/plain": [
       "['https://www.zueriwieneu.ch/report/3']"
      ]
     },
     "execution_count": 54,
     "metadata": {},
     "output_type": "execute_result"
    }
   ],
   "source": [
    "lst_pass"
   ]
  },
  {
   "cell_type": "markdown",
   "metadata": {},
   "source": [
    "# Adding Counter"
   ]
  },
  {
   "cell_type": "code",
   "execution_count": 55,
   "metadata": {
    "collapsed": true
   },
   "outputs": [],
   "source": [
    "import time\n",
    "import progressbar"
   ]
  },
  {
   "cell_type": "code",
   "execution_count": null,
   "metadata": {},
   "outputs": [
    {
     "name": "stderr",
     "output_type": "stream",
     "text": [
      "  2% (348 of 12999) |                      | Elapsed Time: 0:02:14 ETA: 1:21:42"
     ]
    }
   ],
   "source": [
    "bar = progressbar.ProgressBar()\n",
    "\n",
    "for elem,i in zip(range(1,13000), bar((range(1,13000)))):\n",
    "    \n",
    "    url = \"https://www.zueriwieneu.ch/report/\" + str(elem)\n",
    "    response = requests.get(url)\n",
    "    züri_soup = BeautifulSoup(response.text, 'html.parser')\n",
    "    \n",
    "    if züri_soup.find('h1').text != 'Melden Sie Schäden an der Infrastruktur von Zürich':\n",
    "        Mini_dict = {\n",
    "            'Kategorie' : züri_soup.find('h1').text,\n",
    "            'Meldedatum' : züri_soup.find('div', {'class':'problem-header clearfix'}).find('p').text.strip(),\n",
    "            'Meldung' : züri_soup.find('div', {'class':'problem-header clearfix'}).find_all('p')[1],\n",
    "            'Antwortdatum' : züri_soup.find('ul', {'class':'item-list item-list--updates'}).find_all('p')[0].text,\n",
    "            'Antwort' : züri_soup.find('ul', {'class':'item-list item-list--updates'}).find_all('p')[1].text,\n",
    "            'URL' : url\n",
    "            }  \n",
    "        \n",
    "        lst.append(Mini_dict)\n",
    "        \n",
    "    else:\n",
    "        lst_pass.append(url)"
   ]
  },
  {
   "cell_type": "code",
   "execution_count": null,
   "metadata": {
    "collapsed": true
   },
   "outputs": [],
   "source": []
  }
 ],
 "metadata": {
  "kernelspec": {
   "display_name": "Python 3",
   "language": "python",
   "name": "python3"
  },
  "language_info": {
   "codemirror_mode": {
    "name": "ipython",
    "version": 3
   },
   "file_extension": ".py",
   "mimetype": "text/x-python",
   "name": "python",
   "nbconvert_exporter": "python",
   "pygments_lexer": "ipython3",
   "version": "3.5.1"
  }
 },
 "nbformat": 4,
 "nbformat_minor": 2
}
